{
 "cells": [
  {
   "cell_type": "code",
   "execution_count": null,
   "metadata": {},
   "outputs": [],
   "source": [
    "import tifffile\n",
    "import euler_gpu\n",
    "import os, random\n",
    "os.environ[\"CUDA_VISIBLE_DEVICES\"] = \"1\"\n",
    "import matplotlib.pyplot as plt\n",
    "import numpy as np\n",
    "import torch\n",
    "import h5py\n",
    "from tqdm import tqdm\n",
    "device = torch.device(\"cuda:0\")\n",
    "\n",
    "### These should be the only things you need to change ###\n",
    "tiff_folder = \"/storage/fs/store1/brian/swiming_videos/Folder_20240930105926_good\"\n",
    "\n",
    "BATCH_SIZE = 128\n",
    "\n",
    "# How many frames to average over when generating the transformation. All frames will be aligned.\n",
    "num_frames = 128\n",
    "\n",
    "# The two channels to align. Green should correspond to the one that is variable\n",
    "red_channel = 0\n",
    "green_channel = 1\n",
    "\n",
    "# Since the green channel can be highly variant and have large maximum values, it can throw off the NCC calculation after normalization.\n",
    "# I have found that caping the maximum value of the green channel to 250 works well, although you could also take a log transformation of that channel.\n",
    "# It's likely that 250 might not be a good value for all datasets, so if there's an issue try changing this value.\n",
    "cutoff = 250"
   ]
  },
  {
   "cell_type": "markdown",
   "metadata": {},
   "source": [
    "## Align Entire Video"
   ]
  },
  {
   "cell_type": "code",
   "execution_count": null,
   "metadata": {},
   "outputs": [
    {
     "name": "stdout",
     "output_type": "stream",
     "text": [
      "['20240930_20000-21999.tif', '20240930_22000-23999.tif', '20240930_24000-25999.tif', '20240930_26000-27999.tif', '20240930_28000-29999.tif']\n"
     ]
    }
   ],
   "source": [
    "tiff_files = sorted([f for f in os.listdir(tiff_folder) if os.path.splitext(f)[-1] == \".tif\" and \n",
    "                     (f.find(\"RIG\") < 0 and f.find(\"WARP\") < 0 and f.find(\"CHAN\") < 0)], key=lambda x: int(x.split('_')[-1].split('-')[0])) \n",
    "tiff_files = tiff_files[10:]\n",
    "print(tiff_files)\n"
   ]
  },
  {
   "cell_type": "code",
   "execution_count": null,
   "metadata": {},
   "outputs": [],
   "source": [
    "ALIGN_XY_RANGE = np.linspace(-0.001, 0.001, 20, dtype=np.float32)\n",
    "# ALIGN_TH_RANGE = np.concatenate((np.linspace(0, .1, 10, dtype=np.float32), np.linspace(359.9, 360, 10, dtype=np.float32)))\n",
    "ALIGN_TH_RANGE = np.concatenate((np.linspace(0, .1, 10, dtype=np.float32), np.linspace(-0.1, 0, 10, dtype=np.float32)))"
   ]
  },
  {
   "cell_type": "markdown",
   "metadata": {},
   "source": [
    "#### Generate an optimal transformation randomly sampling from frames"
   ]
  },
  {
   "cell_type": "code",
   "execution_count": null,
   "metadata": {},
   "outputs": [
    {
     "name": "stderr",
     "output_type": "stream",
     "text": [
      "100%|██████████| 20/20 [02:38<00:00,  7.94s/it]"
     ]
    },
    {
     "name": "stdout",
     "output_type": "stream",
     "text": [
      "tensor([0.0001], device='cuda:0')\n",
      "tensor([-0.0006], device='cuda:0')\n",
      "tensor([6.9813e-05], device='cuda:0')\n"
     ]
    },
    {
     "name": "stderr",
     "output_type": "stream",
     "text": [
      "\n"
     ]
    }
   ],
   "source": [
    "x_tot = 0.0\n",
    "y_tot = 0.0\n",
    "th_tot = 0.0\n",
    "\n",
    "\n",
    "ins = tifffile.imread(os.path.join(tiff_folder, tiff_files[0]))\n",
    "frames = random.sample(range(ins.shape[0]), num_frames)\n",
    "for frame in tqdm(frames):\n",
    "    red_image = ins[frame, red_channel]\n",
    "    green_image = ins[frame, green_channel]\n",
    "    green_image_log = np.minimum(green_image, cutoff)\n",
    "\n",
    "    memory_dict = euler_gpu.initialize(red_image, green_image_log, ALIGN_XY_RANGE, ALIGN_XY_RANGE, ALIGN_TH_RANGE, BATCH_SIZE, device)\n",
    "    best_score, best_transformation = euler_gpu.grid_search(memory_dict)\n",
    "\n",
    "    x_tot += best_transformation[0]\n",
    "    y_tot += best_transformation[1]\n",
    "    th_tot += best_transformation[2]\n",
    "\n",
    "print(x_tot/num_frames)\n",
    "print(y_tot/num_frames)\n",
    "print(th_tot/num_frames)\n"
   ]
  },
  {
   "cell_type": "code",
   "execution_count": 9,
   "metadata": {},
   "outputs": [
    {
     "name": "stderr",
     "output_type": "stream",
     "text": [
      "  0%|          | 0/5 [00:00<?, ?it/s]/home/brian/.conda/envs/PB/lib/python3.11/site-packages/tifffile/tifffile.py:3784: UserWarning: <tifffile.TiffWriter 'CHAN_20240930_20000-21999.tif'> truncating ImageJ file\n",
      "  warnings.warn(\n",
      " 20%|██        | 1/5 [02:01<08:04, 121.16s/it]/home/brian/.conda/envs/PB/lib/python3.11/site-packages/tifffile/tifffile.py:3784: UserWarning: <tifffile.TiffWriter 'CHAN_20240930_22000-23999.tif'> truncating ImageJ file\n",
      "  warnings.warn(\n",
      " 40%|████      | 2/5 [05:49<09:12, 184.25s/it]/home/brian/.conda/envs/PB/lib/python3.11/site-packages/tifffile/tifffile.py:3784: UserWarning: <tifffile.TiffWriter 'CHAN_20240930_24000-25999.tif'> truncating ImageJ file\n",
      "  warnings.warn(\n",
      " 60%|██████    | 3/5 [10:02<07:11, 215.65s/it]/home/brian/.conda/envs/PB/lib/python3.11/site-packages/tifffile/tifffile.py:3784: UserWarning: <tifffile.TiffWriter 'CHAN_20240930_26000-27999.tif'> truncating ImageJ file\n",
      "  warnings.warn(\n",
      " 80%|████████  | 4/5 [13:11<03:25, 205.19s/it]/home/brian/.conda/envs/PB/lib/python3.11/site-packages/tifffile/tifffile.py:3784: UserWarning: <tifffile.TiffWriter 'CHAN_20240930_28000-29999.tif'> truncating ImageJ file\n",
      "  warnings.warn(\n",
      "100%|██████████| 5/5 [16:37<00:00, 199.58s/it]\n"
     ]
    }
   ],
   "source": [
    "for file in tqdm(tiff_files):\n",
    "    ins = tifffile.imread(os.path.join(tiff_folder, file))\n",
    "    memory_dict = euler_gpu.initialize(ins[0,0], ins[0,0], ALIGN_XY_RANGE, ALIGN_XY_RANGE, ALIGN_TH_RANGE, BATCH_SIZE, device)\n",
    "\n",
    "    for frame in range(ins.shape[0]):\n",
    "        in_img = ins[frame, green_channel]\n",
    "        in_img = torch.Tensor(in_img[np.newaxis, np.newaxis, ...]).to(device=device)\n",
    "        ins[frame, green_channel] = euler_gpu.transform_image(in_img, best_transformation[0], best_transformation[1], best_transformation[2], memory_dict).cpu().numpy()\n",
    "    tifffile.imwrite(os.path.join(tiff_folder, \"CHAN_\" + file), ins, imagej=True)"
   ]
  },
  {
   "cell_type": "code",
   "execution_count": null,
   "metadata": {},
   "outputs": [],
   "source": []
  }
 ],
 "metadata": {
  "kernelspec": {
   "display_name": "PB",
   "language": "python",
   "name": "python3"
  },
  "language_info": {
   "codemirror_mode": {
    "name": "ipython",
    "version": 3
   },
   "file_extension": ".py",
   "mimetype": "text/x-python",
   "name": "python",
   "nbconvert_exporter": "python",
   "pygments_lexer": "ipython3",
   "version": "3.11.9"
  }
 },
 "nbformat": 4,
 "nbformat_minor": 2
}
