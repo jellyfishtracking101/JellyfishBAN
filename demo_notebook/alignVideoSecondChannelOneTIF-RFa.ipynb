{
 "cells": [
  {
   "cell_type": "code",
   "execution_count": 1,
   "metadata": {},
   "outputs": [
    {
     "name": "stderr",
     "output_type": "stream",
     "text": [
      "2025-05-20 20:36:16.707643: E external/local_xla/xla/stream_executor/cuda/cuda_dnn.cc:9261] Unable to register cuDNN factory: Attempting to register factory for plugin cuDNN when one has already been registered\n",
      "2025-05-20 20:36:16.707687: E external/local_xla/xla/stream_executor/cuda/cuda_fft.cc:607] Unable to register cuFFT factory: Attempting to register factory for plugin cuFFT when one has already been registered\n",
      "2025-05-20 20:36:16.709324: E external/local_xla/xla/stream_executor/cuda/cuda_blas.cc:1515] Unable to register cuBLAS factory: Attempting to register factory for plugin cuBLAS when one has already been registered\n"
     ]
    }
   ],
   "source": [
    "import numpy as np\n",
    "import os, cv2\n",
    "import h5py\n",
    "import tifffile\n",
    "from tqdm import tqdm, trange\n",
    "os.environ[\"CUDA_VISIBLE_DEVICES\"] = \"1\"\n",
    "from deepreg.predict import unwrapped_predict, normalize_batched_image\n",
    "from deepreg.model.layer import Warping\n",
    "import tensorflow as tf\n",
    "import matplotlib.pyplot as plt\n",
    "\n",
    "\n",
    "batch_size = 8\n",
    "label_shape = (30, 3)\n",
    "irregular = True"
   ]
  },
  {
   "cell_type": "markdown",
   "metadata": {},
   "source": [
    "### Register a video in batches"
   ]
  },
  {
   "cell_type": "code",
   "execution_count": 2,
   "metadata": {},
   "outputs": [],
   "source": [
    "# tiff_folder = \"/storage/fs/store1/brian/swimming_videos_RFa/Folder_20250214153740_RFa/\"\n",
    "\n",
    "# # tiff_path = \"/storage/fs/store1/brian/swimming_videos_RFa/Folder_20250219120831_RFa/RIG_20250219_Experiment_01_0-1999.tif\"\n",
    "# tiff_folder = \"/storage/fs/store1/brian/swimming_videos_RFa/Folder_20250219120831_RFa/\"\n",
    "\n",
    "# # tiff_path = \"/storage/fs/store1/brian/swimming_videos_RFa/Folder_20250214111049_RFa/20250214_Experiment_01_0-1999.tif\"\n",
    "# tiff_folder = \"/storage/fs/store1/brian/swimming_videos_RFa/Folder_20250214111049_RFa/\"\n",
    "\n",
    "# # tiff_path = \"/storage/fs/store1/brian/swimming_videos_RFa/Folder_20250219110008_RFa_swim/20250219_Experiment_01_0-1999.tif\"\n",
    "# tiff_folder = \"/storage/fs/store1/brian/swimming_videos_RFa/Folder_20250219110008_RFa_swim/\"\n",
    "\n",
    "# tiff_folder = \"/storage/fs/store1/brian/swimming_videos_RFa/Folder_20250214111049_RFa\"\n",
    "\n",
    "tiff_folder = \"/storage/fs/store1/brian/swimming_videos_RFa/Folder_20250212124023_RFa_noswim\"\n",
    "\n",
    "out_folder = tiff_folder\n",
    "\n",
    "\n",
    "# checkpoint_path = \"/home/brian/notebooks/brian/PBrainAlign_and_Jelly/private_BrainAlignNet/demo_notebook/long_first_jelly_again/save/ckpt-626\"\n",
    "# checkpoint_path = \"/home/brian/notebooks/brian/PBrainAlign_and_Jelly/private_BrainAlignNet/demo_notebook/long_first_jelly_redo_DP/save/ckpt-396\"\n",
    "# checkpoint_path = \"/home/brian/notebooks/brian/PBrainAlign_and_Jelly/private_BrainAlignNet/demo_notebook/long_first_jelly_redo_DP_real/save/ckpt-368\"\n",
    "# checkpoint_path = \"/home/brian/notebooks/brian/PBrainAlign_and_Jelly/private_BrainAlignNet/demo_notebook/weights_shifted_2/save/ckpt-385\"\n",
    "# checkpoint_path = \"/home/brian/notebooks/brian/PBrainAlign_and_Jelly/private_BrainAlignNet/demo_notebook/all_labs_flat-TOOMUCHNORM2/save/ckpt-29\"\n",
    "# checkpoint_path = \"~/store1/brian/PBrainAlign_and_Jelly/private_BrainAlignNet/demo_notebook/all_labs_flat-TOOMUCHNORM2/save/ckpt-29\"\n",
    "# checkpoint_path = \"/home/brian/notebooks/brian/PBrainAlign_and_Jelly/private_BrainAlignNet/demo_notebook/karen/save/ckpt-6\"\n",
    "# checkpoint_path = \"/home/brian/notebooks/brian/PBrainAlign_and_Jelly/private_BrainAlignNet/demo_notebook/karen/save/ckpt-254\"\n",
    "# checkpoint_path = \"/home/brian/notebooks/brian/PBrainAlign_and_Jelly/private_BrainAlignNet/demo_notebook/all_labs_mvmt_bounded/save/ckpt-237\"\n",
    "# checkpoint_path = \"/home/brian/notebooks/brian/PBrainAlign_and_Jelly/private_BrainAlignNet/demo_notebook/all_labs_mvmt_bounded_2/save/ckpt-35\"\n",
    "# checkpoint_path = \"/home/brian/notebooks/brian/PBrainAlign_and_Jelly/private_BrainAlignNet/demo_notebook/all_labs_mvmt_bounded_4-bgfloor/save/ckpt-293\"\n",
    "# checkpoint_path = \"/home/brian/notebooks/brian/PBrainAlign_and_Jelly/private_BrainAlignNet/demo_notebook/all_labs_mvmt_bounded_6-log/save/ckpt-26\"\n",
    "# checkpoint_path = \"/home/brian/notebooks/brian/PBrainAlign_and_Jelly/private_BrainAlignNet/demo_notebook/all_labs_mvmt_bounded_9-sing/save/ckpt-490\"\n",
    "# checkpoint_path = \"/home/brian/notebooks/brian/PBrainAlign_and_Jelly/private_BrainAlignNet/demo_notebook/RFa_1-nolab/save/ckpt-999\"\n",
    "# checkpoint_path = \"/home/brian/notebooks/brian/PBrainAlign_and_Jelly/private_BrainAlignNet/demo_notebook/RFa_2-imgpad_nl/save/ckpt-240\"\n",
    "# checkpoint_path = \"/home/brian/notebooks/brian/PBrainAlign_and_Jelly/private_BrainAlignNet/demo_notebook/RFa_3-minpad/save/ckpt-126\"\n",
    "# checkpoint_path = \"/home/brian/notebooks/brian/PBrainAlign_and_Jelly/private_BrainAlignNet/demo_notebook/RFa_4-waymore/save/ckpt-1771\"\n",
    "# checkpoint_path = \"/home/brian/notebooks/brian/PBrainAlign_and_Jelly/private_BrainAlignNet/demo_notebook/RFa_4-waymore/save/ckpt-536\"\n",
    "# checkpoint_path = \"/home/brian/notebooks/brian/PBrainAlign_and_Jelly/private_BrainAlignNet/demo_notebook/RFa_5-dataug/save/ckpt-87\"\n",
    "# checkpoint_path = \"/home/brian/notebooks/brian/PBrainAlign_and_Jelly/private_BrainAlignNet/demo_notebook/RFa_6-dpda/save/ckpt-190\"\n",
    "checkpoint_path = \"/home/brian/notebooks/brian/PBrainAlign_and_Jelly/private_BrainAlignNet/demo_notebook/RFa_6.1-cont/save/ckpt-688\"\n",
    "checkpoint_path = \"/home/brian/notebooks/brian/PBrainAlign_and_Jelly/private_BrainAlignNet/demo_notebook/multi_animal_RFa-2_DP/save/ckpt-200\"\n",
    "checkpoint_path = \"/home/brian/notebooks/brian/PBrainAlign_and_Jelly/private_BrainAlignNet/demo_notebook/multi_animal_RFa-2_DP/save/ckpt-821\"\n",
    "checkpoint_path = \"/home/brian/notebooks/brian/PBrainAlign_and_Jelly/private_BrainAlignNet/demo_notebook/multi_animal_RFa-3_moregrad/save/ckpt-1488\"\n",
    "checkpoint_path = \"/home/brian/notebooks/brian/PBrainAlign_and_Jelly/private_BrainAlignNet/demo_notebook/multi_animal_RFa-3_moregrad/save/ckpt-868\"\n",
    "checkpoint_path = \"/home/brian/notebooks/brian/PBrainAlign_and_Jelly/private_BrainAlignNet/demo_notebook/multi_animal_RFa-4_evenmoregrad/save/ckpt-384\"\n",
    "checkpoint_path = \"/home/brian/notebooks/brian/PBrainAlign_and_Jelly/private_BrainAlignNet/demo_notebook/2ndRFa_1-6dpconfig/save/ckpt-594\"\n",
    "checkpoint_path = \"/home/brian/notebooks/brian/PBrainAlign_and_Jelly/private_BrainAlignNet/demo_notebook/2ndRFa_2-rig/save/ckpt-600\"\n",
    "checkpoint_path = \"/home/brian/notebooks/brian/PBrainAlign_and_Jelly/private_BrainAlignNet/demo_notebook/multi_animal_RFa-5_FIXEDIMGLOSSPAD/save/ckpt-3581\"\n",
    "checkpoint_path = \"/home/brian/notebooks/brian/PBrainAlign_and_Jelly/private_BrainAlignNet/demo_notebook/multi_animal_RFa-6_fixeddp/save/ckpt-350\"\n",
    "\n",
    "\n",
    "max_frames = 2000\n",
    "# side_len = 1080\n",
    "side_len = 1024\n",
    "red_chan = 1\n",
    "padding = np.array([[0,0],[0,0],[0,0],[1,1]])\n",
    "z_depth = 3\n",
    "\n",
    "log_dir = \"/home/brian/data4/brian/PBnJ/out_vids/logs\"\n"
   ]
  },
  {
   "cell_type": "code",
   "execution_count": 3,
   "metadata": {},
   "outputs": [
    {
     "name": "stdout",
     "output_type": "stream",
     "text": [
      "['RIG_20250212_Experiment_01_0-1999.tif', 'RIG_20250212_Experiment_01_2000-3999.tif', 'RIG_20250212_Experiment_01_4000-5999.tif', 'RIG_20250212_Experiment_01_6000-7999.tif', 'RIG_20250212_Experiment_01_8000-9999.tif']\n"
     ]
    }
   ],
   "source": [
    "files = os.listdir(tiff_folder)\n",
    "files = [f for f in files if (f.endswith(\".tif\") or f.endswith(\".tiff\")) and f.startswith(\"RIG_\")]\n",
    "files = sorted(files, key = lambda x: int(x.split(\"_\")[-1].split(\"-\")[0]))\n",
    "print(files)"
   ]
  },
  {
   "cell_type": "code",
   "execution_count": 4,
   "metadata": {},
   "outputs": [],
   "source": [
    "inputs = tifffile.imread(os.path.join(tiff_folder, files[0]))"
   ]
  },
  {
   "cell_type": "code",
   "execution_count": 5,
   "metadata": {},
   "outputs": [
    {
     "data": {
      "text/plain": [
       "(2000, 2, 1200, 1200)"
      ]
     },
     "execution_count": 5,
     "metadata": {},
     "output_type": "execute_result"
    }
   ],
   "source": [
    "inputs.shape"
   ]
  },
  {
   "cell_type": "code",
   "execution_count": 6,
   "metadata": {},
   "outputs": [],
   "source": [
    "if(len(inputs.shape) == 3):\n",
    "    irregular = False\n",
    "    inputs = inputs[:, np.newaxis, ...]"
   ]
  },
  {
   "cell_type": "code",
   "execution_count": null,
   "metadata": {},
   "outputs": [],
   "source": [
    "crop_shape = np.array((side_len, side_len))\n",
    "\n",
    "crop_offset = (inputs.shape[2:] - crop_shape) / 2\n",
    "assert np.all(crop_offset == crop_offset.astype(int))\n",
    "crop_offset = crop_offset.astype(int)\n",
    "\n",
    "## Crop the images\n",
    "inputs_crop = inputs[:, :, crop_offset[0]:crop_offset[0] + crop_shape[0], crop_offset[1]:crop_offset[1] + crop_shape[1]]\n",
    "assert np.all(inputs_crop.shape[2:] == crop_shape)"
   ]
  },
  {
   "cell_type": "code",
   "execution_count": 8,
   "metadata": {},
   "outputs": [],
   "source": [
    "if irregular:\n",
    "    input_red = inputs_crop[:, 1, ...]\n",
    "else:\n",
    "    input_red = inputs_crop[:, 0, ...]"
   ]
  },
  {
   "cell_type": "code",
   "execution_count": 9,
   "metadata": {},
   "outputs": [
    {
     "name": "stdout",
     "output_type": "stream",
     "text": [
      "Fixed img saved\n"
     ]
    }
   ],
   "source": [
    "if 'batched_fixed_image' not in locals():\n",
    "    fixed_image_ARCHIVE = input_red[0] # So we don't have to reload stuff\n",
    "    batched_fixed_image = np.repeat(np.expand_dims(input_red[0], axis=0), batch_size, axis=0).astype(np.float32)\n",
    "    print(\"Fixed img saved\")\n",
    "else:\n",
    "    batched_fixed_image = np.repeat(np.expand_dims(fixed_image_ARCHIVE, axis=0), batch_size, axis=0).astype(np.float32)\n",
    "    print(\"Restored\")"
   ]
  },
  {
   "cell_type": "code",
   "execution_count": 10,
   "metadata": {},
   "outputs": [],
   "source": [
    "os.chdir(\"/home/brian/notebooks/brian/PBrainAlign_and_Jelly/private_BrainAlignNet/scripts\")\n",
    "from register import set_GPU, register\n",
    "# set_GPU(1)"
   ]
  },
  {
   "cell_type": "code",
   "execution_count": 13,
   "metadata": {},
   "outputs": [
    {
     "name": "stdout",
     "output_type": "stream",
     "text": [
      "WARNING:tensorflow:Detecting that an object or model or tf.train.Checkpoint is being deleted with unrestored values. See the following logs for the specific values in question. To silence these warnings, use `status.expect_partial()`. See https://www.tensorflow.org/api_docs/python/tf/train/Checkpoint#restorefor details about the status object returned by the restore function.\n",
      "WARNING:tensorflow:Value in checkpoint could not be found in the restored object: (root).optimizer._variables.1\n",
      "WARNING:tensorflow:Value in checkpoint could not be found in the restored object: (root).optimizer._variables.2\n",
      "WARNING:tensorflow:Value in checkpoint could not be found in the restored object: (root).optimizer._variables.3\n",
      "WARNING:tensorflow:Value in checkpoint could not be found in the restored object: (root).optimizer._variables.4\n",
      "WARNING:tensorflow:Value in checkpoint could not be found in the restored object: (root).optimizer._variables.5\n",
      "WARNING:tensorflow:Value in checkpoint could not be found in the restored object: (root).optimizer._variables.6\n",
      "WARNING:tensorflow:Value in checkpoint could not be found in the restored object: (root).optimizer._variables.7\n",
      "WARNING:tensorflow:Value in checkpoint could not be found in the restored object: (root).optimizer._variables.8\n",
      "WARNING:tensorflow:Value in checkpoint could not be found in the restored object: (root).optimizer._variables.9\n",
      "WARNING:tensorflow:Value in checkpoint could not be found in the restored object: (root).optimizer._variables.10\n",
      "WARNING:tensorflow:Value in checkpoint could not be found in the restored object: (root).optimizer._variables.11\n",
      "WARNING:tensorflow:Value in checkpoint could not be found in the restored object: (root).optimizer._variables.12\n",
      "WARNING:tensorflow:Value in checkpoint could not be found in the restored object: (root).optimizer._variables.13\n",
      "WARNING:tensorflow:Value in checkpoint could not be found in the restored object: (root).optimizer._variables.14\n",
      "WARNING:tensorflow:Value in checkpoint could not be found in the restored object: (root).optimizer._variables.15\n",
      "WARNING:tensorflow:Value in checkpoint could not be found in the restored object: (root).optimizer._variables.16\n",
      "WARNING:tensorflow:Value in checkpoint could not be found in the restored object: (root).optimizer._variables.17\n",
      "WARNING:tensorflow:Value in checkpoint could not be found in the restored object: (root).optimizer._variables.18\n",
      "WARNING:tensorflow:Value in checkpoint could not be found in the restored object: (root).optimizer._variables.19\n",
      "WARNING:tensorflow:Value in checkpoint could not be found in the restored object: (root).optimizer._variables.20\n",
      "WARNING:tensorflow:Value in checkpoint could not be found in the restored object: (root).optimizer._variables.21\n",
      "WARNING:tensorflow:Value in checkpoint could not be found in the restored object: (root).optimizer._variables.22\n",
      "WARNING:tensorflow:Value in checkpoint could not be found in the restored object: (root).optimizer._variables.23\n",
      "WARNING:tensorflow:Value in checkpoint could not be found in the restored object: (root).optimizer._variables.24\n",
      "WARNING:tensorflow:Value in checkpoint could not be found in the restored object: (root).optimizer._variables.25\n",
      "WARNING:tensorflow:Value in checkpoint could not be found in the restored object: (root).optimizer._variables.26\n",
      "WARNING:tensorflow:Value in checkpoint could not be found in the restored object: (root).optimizer._variables.27\n",
      "WARNING:tensorflow:Value in checkpoint could not be found in the restored object: (root).optimizer._variables.28\n",
      "WARNING:tensorflow:Value in checkpoint could not be found in the restored object: (root).optimizer._variables.29\n",
      "WARNING:tensorflow:Value in checkpoint could not be found in the restored object: (root).optimizer._variables.30\n",
      "WARNING:tensorflow:Value in checkpoint could not be found in the restored object: (root).optimizer._variables.31\n",
      "WARNING:tensorflow:Value in checkpoint could not be found in the restored object: (root).optimizer._variables.32\n",
      "WARNING:tensorflow:Value in checkpoint could not be found in the restored object: (root).optimizer._variables.33\n",
      "WARNING:tensorflow:Value in checkpoint could not be found in the restored object: (root).optimizer._variables.34\n",
      "WARNING:tensorflow:Value in checkpoint could not be found in the restored object: (root).optimizer._variables.35\n",
      "WARNING:tensorflow:Value in checkpoint could not be found in the restored object: (root).optimizer._variables.36\n",
      "WARNING:tensorflow:Value in checkpoint could not be found in the restored object: (root).optimizer._variables.37\n",
      "WARNING:tensorflow:Value in checkpoint could not be found in the restored object: (root).optimizer._variables.38\n",
      "WARNING:tensorflow:Value in checkpoint could not be found in the restored object: (root).optimizer._variables.39\n",
      "WARNING:tensorflow:Value in checkpoint could not be found in the restored object: (root).optimizer._variables.40\n",
      "WARNING:tensorflow:Value in checkpoint could not be found in the restored object: (root).optimizer._variables.41\n",
      "WARNING:tensorflow:Value in checkpoint could not be found in the restored object: (root).optimizer._variables.42\n",
      "WARNING:tensorflow:Value in checkpoint could not be found in the restored object: (root).optimizer._variables.43\n",
      "WARNING:tensorflow:Value in checkpoint could not be found in the restored object: (root).optimizer._variables.44\n",
      "WARNING:tensorflow:Value in checkpoint could not be found in the restored object: (root).optimizer._variables.45\n",
      "WARNING:tensorflow:Value in checkpoint could not be found in the restored object: (root).optimizer._variables.46\n",
      "WARNING:tensorflow:Value in checkpoint could not be found in the restored object: (root).optimizer._variables.47\n",
      "WARNING:tensorflow:Value in checkpoint could not be found in the restored object: (root).optimizer._variables.48\n",
      "WARNING:tensorflow:Value in checkpoint could not be found in the restored object: (root).optimizer._variables.49\n",
      "WARNING:tensorflow:Value in checkpoint could not be found in the restored object: (root).optimizer._variables.50\n",
      "WARNING:tensorflow:Value in checkpoint could not be found in the restored object: (root).optimizer._variables.51\n",
      "WARNING:tensorflow:Value in checkpoint could not be found in the restored object: (root).optimizer._variables.52\n",
      "WARNING:tensorflow:Value in checkpoint could not be found in the restored object: (root).optimizer._variables.53\n",
      "WARNING:tensorflow:Value in checkpoint could not be found in the restored object: (root).optimizer._variables.54\n",
      "WARNING:tensorflow:Value in checkpoint could not be found in the restored object: (root).optimizer._variables.55\n",
      "WARNING:tensorflow:Value in checkpoint could not be found in the restored object: (root).optimizer._variables.56\n",
      "WARNING:tensorflow:Value in checkpoint could not be found in the restored object: (root).optimizer._variables.57\n",
      "WARNING:tensorflow:Value in checkpoint could not be found in the restored object: (root).optimizer._variables.58\n",
      "WARNING:tensorflow:Value in checkpoint could not be found in the restored object: (root).optimizer._variables.59\n",
      "WARNING:tensorflow:Value in checkpoint could not be found in the restored object: (root).optimizer._variables.60\n",
      "WARNING:tensorflow:Value in checkpoint could not be found in the restored object: (root).optimizer._variables.61\n",
      "WARNING:tensorflow:Value in checkpoint could not be found in the restored object: (root).optimizer._variables.62\n",
      "WARNING:tensorflow:Value in checkpoint could not be found in the restored object: (root).optimizer._variables.63\n",
      "WARNING:tensorflow:Value in checkpoint could not be found in the restored object: (root).optimizer._variables.64\n",
      "WARNING:tensorflow:Value in checkpoint could not be found in the restored object: (root).optimizer._variables.65\n",
      "WARNING:tensorflow:Value in checkpoint could not be found in the restored object: (root).optimizer._variables.66\n",
      "WARNING:tensorflow:Value in checkpoint could not be found in the restored object: (root).optimizer._variables.67\n",
      "WARNING:tensorflow:Value in checkpoint could not be found in the restored object: (root).optimizer._variables.68\n",
      "WARNING:tensorflow:Value in checkpoint could not be found in the restored object: (root).optimizer._variables.69\n",
      "WARNING:tensorflow:Value in checkpoint could not be found in the restored object: (root).optimizer._variables.70\n",
      "WARNING:tensorflow:Value in checkpoint could not be found in the restored object: (root).optimizer._variables.71\n",
      "WARNING:tensorflow:Value in checkpoint could not be found in the restored object: (root).optimizer._variables.72\n",
      "WARNING:tensorflow:Value in checkpoint could not be found in the restored object: (root).optimizer._variables.73\n",
      "WARNING:tensorflow:Value in checkpoint could not be found in the restored object: (root).optimizer._variables.74\n",
      "WARNING:tensorflow:Value in checkpoint could not be found in the restored object: (root).optimizer._variables.75\n",
      "WARNING:tensorflow:Value in checkpoint could not be found in the restored object: (root).optimizer._variables.76\n",
      "WARNING:tensorflow:Value in checkpoint could not be found in the restored object: (root).optimizer._variables.77\n",
      "WARNING:tensorflow:Value in checkpoint could not be found in the restored object: (root).optimizer._variables.78\n",
      "WARNING:tensorflow:Value in checkpoint could not be found in the restored object: (root).optimizer._variables.79\n",
      "WARNING:tensorflow:Value in checkpoint could not be found in the restored object: (root).optimizer._variables.80\n",
      "WARNING:tensorflow:Value in checkpoint could not be found in the restored object: (root).optimizer._variables.81\n",
      "WARNING:tensorflow:Value in checkpoint could not be found in the restored object: (root).optimizer._variables.82\n",
      "WARNING:tensorflow:Value in checkpoint could not be found in the restored object: (root).optimizer._variables.83\n",
      "WARNING:tensorflow:Value in checkpoint could not be found in the restored object: (root).optimizer._variables.84\n",
      "WARNING:tensorflow:Value in checkpoint could not be found in the restored object: (root).optimizer._variables.85\n",
      "WARNING:tensorflow:Value in checkpoint could not be found in the restored object: (root).optimizer._variables.86\n",
      "WARNING:tensorflow:Value in checkpoint could not be found in the restored object: (root).optimizer._variables.87\n",
      "WARNING:tensorflow:Value in checkpoint could not be found in the restored object: (root).optimizer._variables.88\n",
      "WARNING:tensorflow:Value in checkpoint could not be found in the restored object: (root).optimizer._variables.89\n",
      "WARNING:tensorflow:Value in checkpoint could not be found in the restored object: (root).optimizer._variables.90\n",
      "WARNING:tensorflow:Value in checkpoint could not be found in the restored object: (root).optimizer._variables.91\n",
      "WARNING:tensorflow:Value in checkpoint could not be found in the restored object: (root).optimizer._variables.92\n",
      "WARNING:tensorflow:Value in checkpoint could not be found in the restored object: (root).optimizer._variables.93\n",
      "WARNING:tensorflow:Value in checkpoint could not be found in the restored object: (root).optimizer._variables.94\n",
      "WARNING:tensorflow:Value in checkpoint could not be found in the restored object: (root).optimizer._variables.95\n",
      "WARNING:tensorflow:Value in checkpoint could not be found in the restored object: (root).optimizer._variables.96\n",
      "WARNING:tensorflow:Value in checkpoint could not be found in the restored object: (root).optimizer._variables.97\n",
      "WARNING:tensorflow:Value in checkpoint could not be found in the restored object: (root).optimizer._variables.98\n",
      "WARNING:tensorflow:Value in checkpoint could not be found in the restored object: (root).optimizer._variables.99\n",
      "WARNING:tensorflow:Value in checkpoint could not be found in the restored object: (root).optimizer._variables.100\n",
      "WARNING:tensorflow:Value in checkpoint could not be found in the restored object: (root).optimizer._variables.101\n",
      "WARNING:tensorflow:Value in checkpoint could not be found in the restored object: (root).optimizer._variables.102\n",
      "WARNING:tensorflow:Value in checkpoint could not be found in the restored object: (root).optimizer._variables.103\n",
      "WARNING:tensorflow:Value in checkpoint could not be found in the restored object: (root).optimizer._variables.104\n",
      "WARNING:tensorflow:Value in checkpoint could not be found in the restored object: (root).optimizer._variables.105\n",
      "WARNING:tensorflow:Value in checkpoint could not be found in the restored object: (root).optimizer._variables.106\n",
      "WARNING:tensorflow:Value in checkpoint could not be found in the restored object: (root).optimizer._variables.107\n",
      "WARNING:tensorflow:Value in checkpoint could not be found in the restored object: (root).optimizer._variables.108\n",
      "WARNING:tensorflow:Value in checkpoint could not be found in the restored object: (root).optimizer._variables.109\n",
      "WARNING:tensorflow:Value in checkpoint could not be found in the restored object: (root).optimizer._variables.110\n",
      "WARNING:tensorflow:Value in checkpoint could not be found in the restored object: (root).optimizer._variables.111\n",
      "WARNING:tensorflow:Value in checkpoint could not be found in the restored object: (root).optimizer._variables.112\n",
      "WARNING:tensorflow:Value in checkpoint could not be found in the restored object: (root).optimizer._variables.113\n",
      "WARNING:tensorflow:Value in checkpoint could not be found in the restored object: (root).optimizer._variables.114\n",
      "WARNING:tensorflow:Value in checkpoint could not be found in the restored object: (root).optimizer._variables.115\n",
      "WARNING:tensorflow:Value in checkpoint could not be found in the restored object: (root).optimizer._variables.116\n",
      "WARNING:tensorflow:Value in checkpoint could not be found in the restored object: (root).optimizer._variables.117\n",
      "WARNING:tensorflow:Value in checkpoint could not be found in the restored object: (root).optimizer._variables.118\n",
      "WARNING:tensorflow:Value in checkpoint could not be found in the restored object: (root).optimizer._variables.119\n",
      "WARNING:tensorflow:Value in checkpoint could not be found in the restored object: (root).optimizer._variables.120\n",
      "WARNING:tensorflow:Value in checkpoint could not be found in the restored object: (root).optimizer._variables.121\n",
      "WARNING:tensorflow:Value in checkpoint could not be found in the restored object: (root).optimizer._variables.122\n",
      "WARNING:tensorflow:Value in checkpoint could not be found in the restored object: (root).optimizer._variables.123\n",
      "WARNING:tensorflow:Value in checkpoint could not be found in the restored object: (root).optimizer._variables.124\n",
      "WARNING:tensorflow:Value in checkpoint could not be found in the restored object: (root).optimizer._variables.125\n",
      "WARNING:tensorflow:Value in checkpoint could not be found in the restored object: (root).optimizer._variables.126\n",
      "WARNING:tensorflow:Value in checkpoint could not be found in the restored object: (root).optimizer._variables.127\n",
      "WARNING:tensorflow:Value in checkpoint could not be found in the restored object: (root).optimizer._variables.128\n",
      "WARNING:tensorflow:Value in checkpoint could not be found in the restored object: (root).optimizer._variables.129\n",
      "WARNING:tensorflow:Value in checkpoint could not be found in the restored object: (root).optimizer._variables.130\n",
      "WARNING:tensorflow:Value in checkpoint could not be found in the restored object: (root).optimizer._variables.131\n",
      "WARNING:tensorflow:Value in checkpoint could not be found in the restored object: (root).optimizer._variables.132\n",
      "WARNING:tensorflow:Value in checkpoint could not be found in the restored object: (root).optimizer._variables.133\n",
      "WARNING:tensorflow:Value in checkpoint could not be found in the restored object: (root).optimizer._variables.134\n",
      "WARNING:tensorflow:Value in checkpoint could not be found in the restored object: (root).optimizer._variables.135\n",
      "WARNING:tensorflow:Value in checkpoint could not be found in the restored object: (root).optimizer._variables.136\n",
      "WARNING:tensorflow:Value in checkpoint could not be found in the restored object: (root).optimizer._variables.137\n",
      "WARNING:tensorflow:Value in checkpoint could not be found in the restored object: (root).optimizer._variables.138\n",
      "WARNING:tensorflow:Value in checkpoint could not be found in the restored object: (root).optimizer._variables.139\n",
      "WARNING:tensorflow:Value in checkpoint could not be found in the restored object: (root).optimizer._variables.140\n",
      "WARNING:tensorflow:Value in checkpoint could not be found in the restored object: (root).optimizer._variables.141\n",
      "WARNING:tensorflow:Value in checkpoint could not be found in the restored object: (root).optimizer._variables.142\n",
      "WARNING:tensorflow:Value in checkpoint could not be found in the restored object: (root).optimizer._variables.143\n",
      "WARNING:tensorflow:Value in checkpoint could not be found in the restored object: (root).optimizer._variables.144\n",
      "WARNING:tensorflow:Value in checkpoint could not be found in the restored object: (root).optimizer._variables.145\n",
      "WARNING:tensorflow:Value in checkpoint could not be found in the restored object: (root).optimizer._variables.146\n",
      "WARNING:tensorflow:Value in checkpoint could not be found in the restored object: (root).optimizer._variables.147\n",
      "WARNING:tensorflow:Value in checkpoint could not be found in the restored object: (root).optimizer._variables.148\n"
     ]
    },
    {
     "name": "stderr",
     "output_type": "stream",
     "text": [
      "  0%|          | 0/250 [00:00<?, ?it/s]"
     ]
    },
    {
     "name": "stdout",
     "output_type": "stream",
     "text": [
      "2025-05-20 22:35:25 | WARNING  | Log directory /home/brian/data4/brian/PBnJ/out_vids/logs exists already.\n",
      "2025-05-20 22:35:25 | WARNING  | Using customized configuration. The code might break if the config doesn't match the saved model.\n",
      "Built inputs.\n",
      "Built control points.\n",
      "Concatenated images.\n",
      "{'extract_levels': ListWrapper([0, 1, 2, 3]), 'name': 'local', 'num_channel_initial': 16}\n",
      "Built backbone.\n",
      "Built DDF.\n",
      "Built warping.\n"
     ]
    },
    {
     "name": "stderr",
     "output_type": "stream",
     "text": [
      "100%|██████████| 250/250 [08:27<00:00,  2.03s/it]\n",
      "/home/brian/.conda/envs/PB/lib/python3.11/site-packages/tifffile/tifffile.py:1753: UserWarning: <tifffile.TiffWriter 'WARPED-BOTH_RIG…nt_01_0-1999.tif'> writing nonconformant BigTIFF ImageJ\n",
      "  warnings.warn(\n",
      "100%|██████████| 250/250 [08:34<00:00,  2.06s/it]\n",
      "/home/brian/.conda/envs/PB/lib/python3.11/site-packages/tifffile/tifffile.py:1753: UserWarning: <tifffile.TiffWriter 'WARPED-BOTH_RIG_…1_2000-3999.tif'> writing nonconformant BigTIFF ImageJ\n",
      "  warnings.warn(\n",
      "100%|██████████| 250/250 [07:54<00:00,  1.90s/it]\n",
      "/home/brian/.conda/envs/PB/lib/python3.11/site-packages/tifffile/tifffile.py:1753: UserWarning: <tifffile.TiffWriter 'WARPED-BOTH_RIG_…1_4000-5999.tif'> writing nonconformant BigTIFF ImageJ\n",
      "  warnings.warn(\n",
      "100%|██████████| 250/250 [08:08<00:00,  1.95s/it]\n",
      "/home/brian/.conda/envs/PB/lib/python3.11/site-packages/tifffile/tifffile.py:1753: UserWarning: <tifffile.TiffWriter 'WARPED-BOTH_RIG_…1_6000-7999.tif'> writing nonconformant BigTIFF ImageJ\n",
      "  warnings.warn(\n",
      "100%|██████████| 250/250 [07:55<00:00,  1.90s/it]\n",
      "/home/brian/.conda/envs/PB/lib/python3.11/site-packages/tifffile/tifffile.py:1753: UserWarning: <tifffile.TiffWriter 'WARPED-BOTH_RIG_…1_8000-9999.tif'> writing nonconformant BigTIFF ImageJ\n",
      "  warnings.warn(\n"
     ]
    }
   ],
   "source": [
    "config_path = os.path.join(checkpoint_path.split(\"/save\")[0], \"config.yaml\")\n",
    "model = None\n",
    "\n",
    "red_offset = 0 # You really shouldn't need to change this, it's a rememant from when \n",
    "\n",
    "other_chan = (red_chan - 1) % inputs.shape[1]\n",
    "\n",
    "\n",
    "batched_fixed_image_pad = np.pad(batched_fixed_image[..., np.newaxis], padding, \"constant\", constant_values=np.min(batched_fixed_image))\n",
    "\n",
    "warping = Warping(fixed_image_size=(side_len, side_len, z_depth), batch_size=batch_size)\n",
    "\n",
    "\n",
    "for file in files:\n",
    "    inputs = tifffile.imread(os.path.join(tiff_folder, file))\n",
    "    inputs_crop = inputs[:, :, crop_offset[0]:crop_offset[0] + crop_shape[0], crop_offset[1]:crop_offset[1] + crop_shape[1]]\n",
    "    input_red = inputs_crop[:, red_chan, ...]\n",
    "    input_green = inputs_crop[:, other_chan, ...]\n",
    "    outs = np.zeros_like(inputs_crop)\n",
    "    for frame in trange(0, max_frames, batch_size):\n",
    "        if frame + batch_size > (max_frames):\n",
    "            frame = (max_frames) - batch_size\n",
    "\n",
    "        batched_moving_image = input_red[(frame - red_offset):(frame-red_offset)+batch_size].astype(np.float32)\n",
    "        batched_moving_image = np.pad(batched_moving_image[..., np.newaxis], padding, \"constant\", constant_values=np.min(batched_moving_image))\n",
    "        \n",
    "        ddf_output, pred_fixed_image, model = unwrapped_predict(\n",
    "            batched_fixed_image_pad,\n",
    "            batched_moving_image,\n",
    "            log_dir,\n",
    "            label_shape,\n",
    "            label_shape,\n",
    "            model = model,\n",
    "            model_ckpt_path = checkpoint_path,\n",
    "            model_config_path = config_path,\n",
    "        )\n",
    "\n",
    "        gr_in = np.pad(input_green[(frame):(frame)+batch_size, ..., np.newaxis], padding, \"constant\", constant_values=0).astype(np.float32)\n",
    "        outs[frame:(frame) + batch_size, other_chan] = warping(inputs=[ddf_output, gr_in]).numpy()[..., 1]\n",
    "        \n",
    "        # This is here instead of just taking `pred_fixed_image` from unwrapped_predict because that output is normalized so this is just easier to get the same scale\n",
    "        batched_moving_image = input_red[(frame - red_offset):(frame-red_offset)+batch_size].astype(np.float32)\n",
    "        batched_moving_image = np.pad(batched_moving_image[..., np.newaxis], padding, \"constant\", constant_values=0)\n",
    "        outs[frame:(frame) + batch_size, red_chan] = warping(inputs=[ddf_output, batched_moving_image]).numpy()[..., 1]\n",
    "\n",
    "\n",
    "    tifffile.imwrite(os.path.join(out_folder, \"WARPED-BOTH_\" + file), outs, imagej=True, bigtiff=True)\n",
    "\n"
   ]
  },
  {
   "cell_type": "markdown",
   "metadata": {},
   "source": [
    "# Generate Aligned ROIs\n",
    "Ideally you would generate these while you run the above section, I'm just seperating it here since I want to run it in isolation."
   ]
  },
  {
   "cell_type": "code",
   "execution_count": null,
   "metadata": {},
   "outputs": [
    {
     "name": "stderr",
     "output_type": "stream",
     "text": [
      "  0%|          | 0/250 [00:00<?, ?it/s]"
     ]
    },
    {
     "name": "stdout",
     "output_type": "stream",
     "text": [
      "2025-05-20 21:18:22 | WARNING  | Log directory /home/brian/data4/brian/PBnJ/out_vids/logs exists already.\n",
      "2025-05-20 21:18:22 | WARNING  | Using customized configuration. The code might break if the config doesn't match the saved model.\n",
      "Built inputs.\n",
      "Built control points.\n",
      "Concatenated images.\n",
      "{'extract_levels': ListWrapper([0, 1, 2, 3]), 'name': 'local', 'num_channel_initial': 16}\n",
      "Built backbone.\n",
      "Built DDF.\n",
      "Built warping.\n"
     ]
    },
    {
     "name": "stderr",
     "output_type": "stream",
     "text": [
      "100%|██████████| 250/250 [19:22<00:00,  4.65s/it] \n",
      "/home/brian/.conda/envs/PB/lib/python3.11/site-packages/tifffile/tifffile.py:1753: UserWarning: <tifffile.TiffWriter 'WARPED-ROIS_RIG…nt_01_0-1999.tif'> writing nonconformant BigTIFF ImageJ\n",
      "  warnings.warn(\n",
      "100%|██████████| 250/250 [06:06<00:00,  1.46s/it]\n",
      "/home/brian/.conda/envs/PB/lib/python3.11/site-packages/tifffile/tifffile.py:1753: UserWarning: <tifffile.TiffWriter 'WARPED-ROIS_RIG_…1_2000-3999.tif'> writing nonconformant BigTIFF ImageJ\n",
      "  warnings.warn(\n",
      "100%|██████████| 250/250 [06:00<00:00,  1.44s/it]\n",
      "/home/brian/.conda/envs/PB/lib/python3.11/site-packages/tifffile/tifffile.py:1753: UserWarning: <tifffile.TiffWriter 'WARPED-ROIS_RIG_…1_4000-5999.tif'> writing nonconformant BigTIFF ImageJ\n",
      "  warnings.warn(\n",
      "100%|██████████| 250/250 [05:57<00:00,  1.43s/it]\n",
      "/home/brian/.conda/envs/PB/lib/python3.11/site-packages/tifffile/tifffile.py:1753: UserWarning: <tifffile.TiffWriter 'WARPED-ROIS_RIG_…1_6000-7999.tif'> writing nonconformant BigTIFF ImageJ\n",
      "  warnings.warn(\n",
      "100%|██████████| 250/250 [05:58<00:00,  1.43s/it]\n",
      "/home/brian/.conda/envs/PB/lib/python3.11/site-packages/tifffile/tifffile.py:1753: UserWarning: <tifffile.TiffWriter 'WARPED-ROIS_RIG_…1_8000-9999.tif'> writing nonconformant BigTIFF ImageJ\n",
      "  warnings.warn(\n"
     ]
    }
   ],
   "source": [
    "config_path = os.path.join(checkpoint_path.split(\"/save\")[0], \"config.yaml\")\n",
    "model = None\n",
    "\n",
    "batched_fixed_image_pad = np.pad(batched_fixed_image[..., np.newaxis], padding, \"constant\", constant_values=np.min(batched_fixed_image))\n",
    "\n",
    "warping = Warping(fixed_image_size=(side_len, side_len, z_depth), batch_size=batch_size)\n",
    "ROIwarping = Warping(fixed_image_size=(side_len, side_len, z_depth), batch_size=batch_size, interpolation=\"nearest\")\n",
    "\n",
    "for file in files:\n",
    "    inputs = tifffile.imread(os.path.join(tiff_folder, file))\n",
    "    inputs_crop = inputs[:, :, crop_offset[0]:crop_offset[0] + crop_shape[0], crop_offset[1]:crop_offset[1] + crop_shape[1]]\n",
    "    input_red = inputs_crop[:, red_chan, ...]\n",
    "\n",
    "    ROI_inputs = tifffile.imread(os.path.join(tiff_folder, file.replace(\"RIG_\", \"RIG-ROIS_\")))\n",
    "    ROI_inputs_crop = ROI_inputs[:, crop_offset[0]:crop_offset[0] + crop_shape[0], crop_offset[1]:crop_offset[1] + crop_shape[1]]\n",
    "\n",
    "    ROIouts = np.zeros_like(ROI_inputs_crop)\n",
    "    for frame in trange(0, max_frames, batch_size):\n",
    "        if frame + batch_size > (max_frames):\n",
    "            frame = (max_frames) - batch_size\n",
    "    \n",
    "\n",
    "        batched_moving_image = input_red[(frame - red_offset):(frame-red_offset)+batch_size].astype(np.float32)\n",
    "        batched_moving_image = np.pad(batched_moving_image[..., np.newaxis], padding, \"constant\", constant_values=np.min(batched_moving_image))\n",
    "\n",
    "        \n",
    "        ddf_output, pred_fixed_image, model = unwrapped_predict(\n",
    "            batched_fixed_image_pad,\n",
    "            batched_moving_image,\n",
    "            log_dir,\n",
    "            label_shape,\n",
    "            label_shape,\n",
    "            model = model,\n",
    "            model_ckpt_path = checkpoint_path,\n",
    "            model_config_path = config_path,\n",
    "        )\n",
    "\n",
    "        ROI_in = np.pad(ROI_inputs_crop[(frame):(frame)+batch_size, ..., np.newaxis], padding, \"constant\", constant_values=0).astype(np.float32)\n",
    "        ROIouts[frame:(frame) + batch_size] = ROIwarping(inputs=[ddf_output, ROI_in]).numpy()[..., 1]\n",
    "\n",
    "        \n",
    "    tifffile.imwrite(os.path.join(out_folder, \"WARPED-ROIS_\" + file), ROIouts, imagej=True, bigtiff=True)\n"
   ]
  },
  {
   "cell_type": "code",
   "execution_count": null,
   "metadata": {},
   "outputs": [],
   "source": []
  }
 ],
 "metadata": {
  "kernelspec": {
   "display_name": "PB",
   "language": "python",
   "name": "python3"
  },
  "language_info": {
   "codemirror_mode": {
    "name": "ipython",
    "version": 3
   },
   "file_extension": ".py",
   "mimetype": "text/x-python",
   "name": "python",
   "nbconvert_exporter": "python",
   "pygments_lexer": "ipython3",
   "version": "3.11.9"
  }
 },
 "nbformat": 4,
 "nbformat_minor": 2
}
