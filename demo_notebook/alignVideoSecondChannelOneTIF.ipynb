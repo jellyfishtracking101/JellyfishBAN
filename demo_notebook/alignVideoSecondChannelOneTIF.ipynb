{
 "cells": [
  {
   "cell_type": "code",
   "execution_count": 1,
   "metadata": {},
   "outputs": [
    {
     "name": "stderr",
     "output_type": "stream",
     "text": [
      "2025-05-28 00:34:58.344596: E external/local_xla/xla/stream_executor/cuda/cuda_dnn.cc:9261] Unable to register cuDNN factory: Attempting to register factory for plugin cuDNN when one has already been registered\n",
      "2025-05-28 00:34:58.344677: E external/local_xla/xla/stream_executor/cuda/cuda_fft.cc:607] Unable to register cuFFT factory: Attempting to register factory for plugin cuFFT when one has already been registered\n",
      "2025-05-28 00:34:58.346445: E external/local_xla/xla/stream_executor/cuda/cuda_blas.cc:1515] Unable to register cuBLAS factory: Attempting to register factory for plugin cuBLAS when one has already been registered\n"
     ]
    }
   ],
   "source": [
    "import numpy as np\n",
    "import os, cv2\n",
    "import h5py\n",
    "import tifffile\n",
    "from tqdm import tqdm, trange\n",
    "os.environ[\"CUDA_VISIBLE_DEVICES\"] = \"1\"\n",
    "from deepreg.predict import unwrapped_predict, normalize_batched_image\n",
    "from deepreg.model.layer import Warping\n",
    "import tensorflow as tf\n",
    "import matplotlib.pyplot as plt\n",
    "\n",
    "\n",
    "batch_size = 8\n",
    "label_shape = (30, 3)\n",
    "irregular = True"
   ]
  },
  {
   "cell_type": "markdown",
   "metadata": {},
   "source": [
    "### Register a video in batches"
   ]
  },
  {
   "cell_type": "code",
   "execution_count": 2,
   "metadata": {},
   "outputs": [
    {
     "name": "stdout",
     "output_type": "stream",
     "text": [
      "['RIG_0-1999.tif']\n",
      "['RIG_0-1999.tif']\n"
     ]
    }
   ],
   "source": [
    "#Tiff files for registration needs to start with the prefix RIG_\n",
    "tiff_folder = \"/mnt/jfban_input\"\n",
    "out_folder = tiff_folder\n",
    "\n",
    "checkpoint_path = \"/workspace/demo_notebook/test_run/save/ckpt-7\"\n",
    "\n",
    "max_frames = 2000\n",
    "red_chan = 1\n",
    "\n",
    "side_len = 1024\n",
    "padding = np.array([[0,0],[0,0],[0,0],[1,1]])\n",
    "z_depth = 3\n",
    "\n",
    "log_dir = \"/workspace/out_vids/logs\"\n",
    "\n",
    "files = os.listdir(tiff_folder)\n",
    "print(files)\n",
    "files = [f for f in files if (f.endswith(\".tif\") or f.endswith(\".tiff\")) and f.startswith(\"RIG_\")] \n",
    "files = sorted(files, key = lambda x: int(x.split(\"_\")[-1].split(\"-\")[0]))\n",
    "print(files)"
   ]
  },
  {
   "cell_type": "code",
   "execution_count": 3,
   "metadata": {},
   "outputs": [],
   "source": [
    "inputs = tifffile.imread(os.path.join(tiff_folder, files[0]))"
   ]
  },
  {
   "cell_type": "code",
   "execution_count": 4,
   "metadata": {},
   "outputs": [
    {
     "data": {
      "text/plain": [
       "(2000, 2, 1200, 1200)"
      ]
     },
     "execution_count": 4,
     "metadata": {},
     "output_type": "execute_result"
    }
   ],
   "source": [
    "inputs.shape"
   ]
  },
  {
   "cell_type": "code",
   "execution_count": 5,
   "metadata": {},
   "outputs": [],
   "source": [
    "if(len(inputs.shape) == 3):\n",
    "    irregular = False\n",
    "    inputs = inputs[:, np.newaxis, ...]"
   ]
  },
  {
   "cell_type": "code",
   "execution_count": 6,
   "metadata": {},
   "outputs": [],
   "source": [
    "crop_shape = np.array((side_len, side_len))\n",
    "\n",
    "crop_offset = (inputs.shape[2:] - crop_shape) / 2\n",
    "assert np.all(crop_offset == crop_offset.astype(int))\n",
    "crop_offset = crop_offset.astype(int)\n",
    "\n",
    "## Crop the images\n",
    "inputs_crop = inputs[:, :, crop_offset[0]:crop_offset[0] + crop_shape[0], crop_offset[1]:crop_offset[1] + crop_shape[1]]\n",
    "assert np.all(inputs_crop.shape[2:] == crop_shape)"
   ]
  },
  {
   "cell_type": "code",
   "execution_count": 7,
   "metadata": {},
   "outputs": [],
   "source": [
    "if irregular:\n",
    "    input_red = inputs_crop[:, 1, ...]\n",
    "else:\n",
    "    input_red = inputs_crop[:, 0, ...]\n",
    "\n",
    "batched_fixed_image = np.repeat(np.expand_dims(input_red[0], axis=0), batch_size, axis=0).astype(np.float32)"
   ]
  },
  {
   "cell_type": "code",
   "execution_count": 8,
   "metadata": {},
   "outputs": [],
   "source": [
    "os.chdir(\"/workspace/scripts\")\n",
    "from register import set_GPU, register\n",
    "# set_GPU(1)"
   ]
  },
  {
   "cell_type": "code",
   "execution_count": 9,
   "metadata": {},
   "outputs": [
    {
     "name": "stderr",
     "output_type": "stream",
     "text": [
      "  0%|          | 0/250 [00:00<?, ?it/s]"
     ]
    },
    {
     "name": "stdout",
     "output_type": "stream",
     "text": [
      "2025-05-28 00:37:42 | WARNING  | Log directory /workspace/out_vids/logs exists already.\n",
      "2025-05-28 00:37:42 | WARNING  | Using customized configuration. The code might break if the config doesn't match the saved model.\n",
      "Built inputs.\n",
      "Built control points.\n",
      "Concatenated images.\n",
      "{'extract_levels': ListWrapper([0, 1, 2, 3]), 'name': 'local', 'num_channel_initial': 16}\n",
      "Built backbone.\n",
      "Built DDF.\n",
      "Built warping.\n"
     ]
    },
    {
     "name": "stderr",
     "output_type": "stream",
     "text": [
      "  0%|          | 0/250 [00:02<?, ?it/s]\n"
     ]
    },
    {
     "ename": "ValueError",
     "evalue": "moving and fixed images in paired loader are not identical\ndifference are [(('/workspace/test_h5_files', '10078to15011'), ('/workspace/test_h5_files', '15011to15011')), (('/workspace/test_h5_files', '10411to15011'), None), (('/workspace/test_h5_files', '10412to15011'), None), (('/workspace/test_h5_files', '10419to15011'), None), (('/workspace/test_h5_files', '10423to15011'), None), (('/workspace/test_h5_files', '10456to15011'), None), (('/workspace/test_h5_files', '10459to15011'), None), (('/workspace/test_h5_files', '10523to15011'), None), (('/workspace/test_h5_files', '12233to15011'), None), (('/workspace/test_h5_files', '13626to15011'), None), (('/workspace/test_h5_files', '13627to15011'), None), (('/workspace/test_h5_files', '13671to15011'), None), (('/workspace/test_h5_files', '13847to15011'), None), (('/workspace/test_h5_files', '14344to15011'), None), (('/workspace/test_h5_files', '14745to15011'), None), (('/workspace/test_h5_files', '15004to15011'), None), (('/workspace/test_h5_files', '15058to15011'), None), (('/workspace/test_h5_files', '15063to15011'), None), (('/workspace/test_h5_files', '15088to15011'), None), (('/workspace/test_h5_files', '15089to15011'), None), (('/workspace/test_h5_files', '15110to15011'), None), (('/workspace/test_h5_files', '15307to15011'), None), (('/workspace/test_h5_files', '15660to15011'), None), (('/workspace/test_h5_files', '15838to15011'), None), (('/workspace/test_h5_files', '16304to15011'), None), (('/workspace/test_h5_files', '16332to15011'), None), (('/workspace/test_h5_files', '17314to15011'), None), (('/workspace/test_h5_files', '17686to15011'), None), (('/workspace/test_h5_files', '17948to15011'), None), (('/workspace/test_h5_files', '17952to15011'), None), (('/workspace/test_h5_files', '17955to15011'), None), (('/workspace/test_h5_files', '17995to15011'), None), (('/workspace/test_h5_files', '18339to15011'), None), (('/workspace/test_h5_files', '19483to15011'), None), (('/workspace/test_h5_files', '19530to15011'), None), (('/workspace/test_h5_files', '19536to15011'), None), (('/workspace/test_h5_files', '1to15011'), None), (('/workspace/test_h5_files', '20958to15011'), None), (('/workspace/test_h5_files', '2122to15011'), None), (('/workspace/test_h5_files', '22301to15011'), None), (('/workspace/test_h5_files', '22359to15011'), None), (('/workspace/test_h5_files', '23057to15011'), None), (('/workspace/test_h5_files', '24070to15011'), None), (('/workspace/test_h5_files', '24232to15011'), None), (('/workspace/test_h5_files', '3563to15011'), None), (('/workspace/test_h5_files', '5004to15011'), None), (('/workspace/test_h5_files', '6739to15011'), None), (('/workspace/test_h5_files', '8110to15011'), None), (('/workspace/test_h5_files', '985to15011'), None)]\n",
     "output_type": "error",
     "traceback": [
      "\u001b[0;31m---------------------------------------------------------------------------\u001b[0m",
      "\u001b[0;31mValueError\u001b[0m                                Traceback (most recent call last)",
      "Cell \u001b[0;32mIn[9], line 29\u001b[0m\n\u001b[1;32m     26\u001b[0m batched_moving_image \u001b[38;5;241m=\u001b[39m np\u001b[38;5;241m.\u001b[39mpad(batched_moving_image[\u001b[38;5;241m.\u001b[39m\u001b[38;5;241m.\u001b[39m\u001b[38;5;241m.\u001b[39m, np\u001b[38;5;241m.\u001b[39mnewaxis], padding, \u001b[38;5;124m\"\u001b[39m\u001b[38;5;124mconstant\u001b[39m\u001b[38;5;124m\"\u001b[39m, constant_values\u001b[38;5;241m=\u001b[39mnp\u001b[38;5;241m.\u001b[39mmin(batched_moving_image))\n\u001b[1;32m     27\u001b[0m \u001b[38;5;66;03m# batched_moving_image = np.repeat(batched_moving_image[..., np.newaxis], z_depth, axis=-1)\u001b[39;00m\n\u001b[0;32m---> 29\u001b[0m ddf_output, pred_fixed_image, model \u001b[38;5;241m=\u001b[39m \u001b[43munwrapped_predict\u001b[49m\u001b[43m(\u001b[49m\n\u001b[1;32m     30\u001b[0m \u001b[43m    \u001b[49m\u001b[43mbatched_fixed_image_pad\u001b[49m\u001b[43m,\u001b[49m\n\u001b[1;32m     31\u001b[0m \u001b[43m    \u001b[49m\u001b[43mbatched_moving_image\u001b[49m\u001b[43m,\u001b[49m\n\u001b[1;32m     32\u001b[0m \u001b[43m    \u001b[49m\u001b[43mlog_dir\u001b[49m\u001b[43m,\u001b[49m\n\u001b[1;32m     33\u001b[0m \u001b[43m    \u001b[49m\u001b[43mlabel_shape\u001b[49m\u001b[43m,\u001b[49m\n\u001b[1;32m     34\u001b[0m \u001b[43m    \u001b[49m\u001b[43mlabel_shape\u001b[49m\u001b[43m,\u001b[49m\n\u001b[1;32m     35\u001b[0m \u001b[43m    \u001b[49m\u001b[43mmodel\u001b[49m\u001b[38;5;241;43m=\u001b[39;49m\u001b[43mmodel\u001b[49m\u001b[43m,\u001b[49m\n\u001b[1;32m     36\u001b[0m \u001b[43m    \u001b[49m\u001b[43mmodel_ckpt_path\u001b[49m\u001b[38;5;241;43m=\u001b[39;49m\u001b[43mcheckpoint_path\u001b[49m\u001b[43m,\u001b[49m\n\u001b[1;32m     37\u001b[0m \u001b[43m    \u001b[49m\u001b[43mmodel_config_path\u001b[49m\u001b[38;5;241;43m=\u001b[39;49m\u001b[43mconfig_path\u001b[49m\u001b[43m,\u001b[49m\n\u001b[1;32m     38\u001b[0m \u001b[43m\u001b[49m\u001b[43m)\u001b[49m\n\u001b[1;32m     41\u001b[0m gr_in \u001b[38;5;241m=\u001b[39m np\u001b[38;5;241m.\u001b[39mpad(input_green[(frame):(frame)\u001b[38;5;241m+\u001b[39mbatch_size, \u001b[38;5;241m.\u001b[39m\u001b[38;5;241m.\u001b[39m\u001b[38;5;241m.\u001b[39m, np\u001b[38;5;241m.\u001b[39mnewaxis], padding, \u001b[38;5;124m\"\u001b[39m\u001b[38;5;124mconstant\u001b[39m\u001b[38;5;124m\"\u001b[39m, constant_values\u001b[38;5;241m=\u001b[39m\u001b[38;5;241m0\u001b[39m)\u001b[38;5;241m.\u001b[39mastype(np\u001b[38;5;241m.\u001b[39mfloat32)\n\u001b[1;32m     42\u001b[0m outs[frame:(frame) \u001b[38;5;241m+\u001b[39m batch_size, other_chan] \u001b[38;5;241m=\u001b[39m warping(inputs\u001b[38;5;241m=\u001b[39m[ddf_output, gr_in])\u001b[38;5;241m.\u001b[39mnumpy()[\u001b[38;5;241m.\u001b[39m\u001b[38;5;241m.\u001b[39m\u001b[38;5;241m.\u001b[39m, \u001b[38;5;241m1\u001b[39m]\n",
      "File \u001b[0;32m/opt/conda/envs/JFBAN/lib/python3.11/site-packages/deepreg/predict.py:371\u001b[0m, in \u001b[0;36munwrapped_predict\u001b[0;34m(batched_fixed_img, batched_moving_img, output_dir, fixed_label_size, moving_label_size, model, model_ckpt_path, model_config_path)\u001b[0m\n\u001b[1;32m    368\u001b[0m     model\u001b[38;5;241m.\u001b[39mcompile(optimizer\u001b[38;5;241m=\u001b[39moptimizer, run_eagerly \u001b[38;5;241m=\u001b[39m \u001b[38;5;28;01mFalse\u001b[39;00m)\n\u001b[1;32m    370\u001b[0m \u001b[38;5;66;03m# load weights\u001b[39;00m\n\u001b[0;32m--> 371\u001b[0m data_loader, dataset, _ \u001b[38;5;241m=\u001b[39m \u001b[43mbuild_dataset\u001b[49m\u001b[43m(\u001b[49m\n\u001b[1;32m    372\u001b[0m \u001b[43m    \u001b[49m\u001b[43mdataset_config\u001b[49m\u001b[38;5;241;43m=\u001b[39;49m\u001b[43mconfig\u001b[49m\u001b[43m[\u001b[49m\u001b[38;5;124;43m\"\u001b[39;49m\u001b[38;5;124;43mdataset\u001b[39;49m\u001b[38;5;124;43m\"\u001b[39;49m\u001b[43m]\u001b[49m\u001b[43m,\u001b[49m\n\u001b[1;32m    373\u001b[0m \u001b[43m    \u001b[49m\u001b[43mpreprocess_config\u001b[49m\u001b[38;5;241;43m=\u001b[39;49m\u001b[43mconfig\u001b[49m\u001b[43m[\u001b[49m\u001b[38;5;124;43m\"\u001b[39;49m\u001b[38;5;124;43mtrain\u001b[39;49m\u001b[38;5;124;43m\"\u001b[39;49m\u001b[43m]\u001b[49m\u001b[43m[\u001b[49m\u001b[38;5;124;43m\"\u001b[39;49m\u001b[38;5;124;43mpreprocess\u001b[39;49m\u001b[38;5;124;43m\"\u001b[39;49m\u001b[43m]\u001b[49m\u001b[43m,\u001b[49m\n\u001b[1;32m    374\u001b[0m \u001b[43m    \u001b[49m\u001b[43msplit\u001b[49m\u001b[38;5;241;43m=\u001b[39;49m\u001b[38;5;124;43m\"\u001b[39;49m\u001b[38;5;124;43mtest\u001b[39;49m\u001b[38;5;124;43m\"\u001b[39;49m\u001b[43m,\u001b[49m\n\u001b[1;32m    375\u001b[0m \u001b[43m    \u001b[49m\u001b[43mtraining\u001b[49m\u001b[38;5;241;43m=\u001b[39;49m\u001b[38;5;28;43;01mFalse\u001b[39;49;00m\u001b[43m,\u001b[49m\n\u001b[1;32m    376\u001b[0m \u001b[43m    \u001b[49m\u001b[43mrepeat\u001b[49m\u001b[38;5;241;43m=\u001b[39;49m\u001b[38;5;28;43;01mFalse\u001b[39;49;00m\u001b[43m,\u001b[49m\n\u001b[1;32m    377\u001b[0m \u001b[43m\u001b[49m\u001b[43m)\u001b[49m\n\u001b[1;32m    378\u001b[0m \u001b[38;5;28;01massert\u001b[39;00m data_loader \u001b[38;5;129;01mis\u001b[39;00m \u001b[38;5;129;01mnot\u001b[39;00m \u001b[38;5;28;01mNone\u001b[39;00m\n\u001b[1;32m    380\u001b[0m \u001b[38;5;28;01mif\u001b[39;00m model_ckpt_path\u001b[38;5;241m.\u001b[39mendswith(\u001b[38;5;124m\"\u001b[39m\u001b[38;5;124m.ckpt\u001b[39m\u001b[38;5;124m\"\u001b[39m):\n\u001b[1;32m    381\u001b[0m     \u001b[38;5;66;03m# for ckpt from tf.keras.callbacks.ModelCheckpoint\u001b[39;00m\n\u001b[1;32m    382\u001b[0m     \u001b[38;5;66;03m# skip warnings because of optimizers\u001b[39;00m\n\u001b[1;32m    383\u001b[0m     \u001b[38;5;66;03m# https://stackoverflow.com/questions/58289342/tf2-0-translation-model-error-when-restoring-the-saved-model-unresolved-object\u001b[39;00m\n",
      "File \u001b[0;32m/opt/conda/envs/JFBAN/lib/python3.11/site-packages/deepreg/util.py:44\u001b[0m, in \u001b[0;36mbuild_dataset\u001b[0;34m(dataset_config, preprocess_config, split, training, repeat)\u001b[0m\n\u001b[1;32m     27\u001b[0m \u001b[38;5;250m\u001b[39m\u001b[38;5;124;03m\"\"\"\u001b[39;00m\n\u001b[1;32m     28\u001b[0m \u001b[38;5;124;03mFunction to prepare dataset for training and validation.\u001b[39;00m\n\u001b[1;32m     29\u001b[0m \u001b[38;5;124;03m:param dataset_config: configuration for dataset\u001b[39;00m\n\u001b[0;32m   (...)\u001b[0m\n\u001b[1;32m     41\u001b[0m \u001b[38;5;124;03mas we need DataLoader to define the output\u001b[39;00m\n\u001b[1;32m     42\u001b[0m \u001b[38;5;124;03m\"\"\"\u001b[39;00m\n\u001b[1;32m     43\u001b[0m \u001b[38;5;28;01massert\u001b[39;00m split \u001b[38;5;129;01min\u001b[39;00m [\u001b[38;5;124m\"\u001b[39m\u001b[38;5;124mtrain\u001b[39m\u001b[38;5;124m\"\u001b[39m, \u001b[38;5;124m\"\u001b[39m\u001b[38;5;124mvalid\u001b[39m\u001b[38;5;124m\"\u001b[39m, \u001b[38;5;124m\"\u001b[39m\u001b[38;5;124mtest\u001b[39m\u001b[38;5;124m\"\u001b[39m]\n\u001b[0;32m---> 44\u001b[0m data_loader \u001b[38;5;241m=\u001b[39m \u001b[43mget_data_loader\u001b[49m\u001b[43m(\u001b[49m\u001b[43mdataset_config\u001b[49m\u001b[43m,\u001b[49m\u001b[43m \u001b[49m\u001b[43msplit\u001b[49m\u001b[43m)\u001b[49m\n\u001b[1;32m     45\u001b[0m \u001b[38;5;28;01mif\u001b[39;00m data_loader \u001b[38;5;129;01mis\u001b[39;00m \u001b[38;5;28;01mNone\u001b[39;00m:\n\u001b[1;32m     46\u001b[0m     \u001b[38;5;28;01mreturn\u001b[39;00m \u001b[38;5;28;01mNone\u001b[39;00m, \u001b[38;5;28;01mNone\u001b[39;00m, \u001b[38;5;28;01mNone\u001b[39;00m\n",
      "File \u001b[0;32m/opt/conda/envs/JFBAN/lib/python3.11/site-packages/deepreg/dataset/load.py:56\u001b[0m, in \u001b[0;36mget_data_loader\u001b[0;34m(data_config, split)\u001b[0m\n\u001b[1;32m     45\u001b[0m data_loader_config[\u001b[38;5;124m\"\u001b[39m\u001b[38;5;124mname\u001b[39m\u001b[38;5;124m\"\u001b[39m] \u001b[38;5;241m=\u001b[39m data_loader_config\u001b[38;5;241m.\u001b[39mpop(\u001b[38;5;124m\"\u001b[39m\u001b[38;5;124mtype\u001b[39m\u001b[38;5;124m\"\u001b[39m)\n\u001b[1;32m     47\u001b[0m default_args \u001b[38;5;241m=\u001b[39m \u001b[38;5;28mdict\u001b[39m(\n\u001b[1;32m     48\u001b[0m     data_dir_paths\u001b[38;5;241m=\u001b[39mdata_dir_paths,\n\u001b[1;32m     49\u001b[0m     file_loader\u001b[38;5;241m=\u001b[39mREGISTRY\u001b[38;5;241m.\u001b[39mget(\n\u001b[0;32m   (...)\u001b[0m\n\u001b[1;32m     54\u001b[0m     seed\u001b[38;5;241m=\u001b[39m\u001b[38;5;28;01mNone\u001b[39;00m \u001b[38;5;28;01mif\u001b[39;00m split \u001b[38;5;241m==\u001b[39m \u001b[38;5;124m\"\u001b[39m\u001b[38;5;124mtrain\u001b[39m\u001b[38;5;124m\"\u001b[39m \u001b[38;5;28;01melse\u001b[39;00m \u001b[38;5;241m0\u001b[39m,\n\u001b[1;32m     55\u001b[0m )\n\u001b[0;32m---> 56\u001b[0m data_loader: DataLoader \u001b[38;5;241m=\u001b[39m \u001b[43mREGISTRY\u001b[49m\u001b[38;5;241;43m.\u001b[39;49m\u001b[43mbuild_data_loader\u001b[49m\u001b[43m(\u001b[49m\n\u001b[1;32m     57\u001b[0m \u001b[43m    \u001b[49m\u001b[43mconfig\u001b[49m\u001b[38;5;241;43m=\u001b[39;49m\u001b[43mdata_loader_config\u001b[49m\u001b[43m,\u001b[49m\u001b[43m \u001b[49m\u001b[43mdefault_args\u001b[49m\u001b[38;5;241;43m=\u001b[39;49m\u001b[43mdefault_args\u001b[49m\n\u001b[1;32m     58\u001b[0m \u001b[43m\u001b[49m\u001b[43m)\u001b[49m\n\u001b[1;32m     59\u001b[0m \u001b[38;5;28;01mreturn\u001b[39;00m data_loader\n",
      "File \u001b[0;32m/opt/conda/envs/JFBAN/lib/python3.11/site-packages/deepreg/registry.py:261\u001b[0m, in \u001b[0;36mRegistry.build_data_loader\u001b[0;34m(self, config, default_args)\u001b[0m\n\u001b[1;32m    251\u001b[0m \u001b[38;5;28;01mdef\u001b[39;00m\u001b[38;5;250m \u001b[39m\u001b[38;5;21mbuild_data_loader\u001b[39m(\n\u001b[1;32m    252\u001b[0m     \u001b[38;5;28mself\u001b[39m, config: Dict, default_args: Optional[\u001b[38;5;28mdict\u001b[39m] \u001b[38;5;241m=\u001b[39m \u001b[38;5;28;01mNone\u001b[39;00m\n\u001b[1;32m    253\u001b[0m ) \u001b[38;5;241m-\u001b[39m\u001b[38;5;241m>\u001b[39m Any:\n\u001b[1;32m    254\u001b[0m \u001b[38;5;250m    \u001b[39m\u001b[38;5;124;03m\"\"\"\u001b[39;00m\n\u001b[1;32m    255\u001b[0m \u001b[38;5;124;03m    Instantiate a registered data loader class.\u001b[39;00m\n\u001b[1;32m    256\u001b[0m \n\u001b[0;32m   (...)\u001b[0m\n\u001b[1;32m    259\u001b[0m \u001b[38;5;124;03m    :return: a loss instance\u001b[39;00m\n\u001b[1;32m    260\u001b[0m \u001b[38;5;124;03m    \"\"\"\u001b[39;00m\n\u001b[0;32m--> 261\u001b[0m     \u001b[38;5;28;01mreturn\u001b[39;00m \u001b[38;5;28;43mself\u001b[39;49m\u001b[38;5;241;43m.\u001b[39;49m\u001b[43mbuild_from_config\u001b[49m\u001b[43m(\u001b[49m\n\u001b[1;32m    262\u001b[0m \u001b[43m        \u001b[49m\u001b[43mcategory\u001b[49m\u001b[38;5;241;43m=\u001b[39;49m\u001b[43mDATA_LOADER_CLASS\u001b[49m\u001b[43m,\u001b[49m\u001b[43m \u001b[49m\u001b[43mconfig\u001b[49m\u001b[38;5;241;43m=\u001b[39;49m\u001b[43mconfig\u001b[49m\u001b[43m,\u001b[49m\u001b[43m \u001b[49m\u001b[43mdefault_args\u001b[49m\u001b[38;5;241;43m=\u001b[39;49m\u001b[43mdefault_args\u001b[49m\n\u001b[1;32m    263\u001b[0m \u001b[43m    \u001b[49m\u001b[43m)\u001b[49m\n",
      "File \u001b[0;32m/opt/conda/envs/JFBAN/lib/python3.11/site-packages/deepreg/registry.py:143\u001b[0m, in \u001b[0;36mRegistry.build_from_config\u001b[0;34m(self, category, config, default_args)\u001b[0m\n\u001b[1;32m    141\u001b[0m \u001b[38;5;28mcls\u001b[39m \u001b[38;5;241m=\u001b[39m \u001b[38;5;28mself\u001b[39m\u001b[38;5;241m.\u001b[39mget(category\u001b[38;5;241m=\u001b[39mcategory, key\u001b[38;5;241m=\u001b[39mname)\n\u001b[1;32m    142\u001b[0m \u001b[38;5;28;01mtry\u001b[39;00m:\n\u001b[0;32m--> 143\u001b[0m     \u001b[38;5;28;01mreturn\u001b[39;00m \u001b[38;5;28;43mcls\u001b[39;49m\u001b[43m(\u001b[49m\u001b[38;5;241;43m*\u001b[39;49m\u001b[38;5;241;43m*\u001b[39;49m\u001b[43margs\u001b[49m\u001b[43m)\u001b[49m\n\u001b[1;32m    144\u001b[0m \u001b[38;5;28;01mexcept\u001b[39;00m \u001b[38;5;167;01mTypeError\u001b[39;00m \u001b[38;5;28;01mas\u001b[39;00m err:\n\u001b[1;32m    145\u001b[0m     \u001b[38;5;28;01mraise\u001b[39;00m \u001b[38;5;167;01mValueError\u001b[39;00m(\n\u001b[1;32m    146\u001b[0m         \u001b[38;5;124mf\u001b[39m\u001b[38;5;124m\"\u001b[39m\u001b[38;5;124mConfiguration is not compatible \u001b[39m\u001b[38;5;124m\"\u001b[39m\n\u001b[1;32m    147\u001b[0m         \u001b[38;5;124mf\u001b[39m\u001b[38;5;124m\"\u001b[39m\u001b[38;5;124mfor Class \u001b[39m\u001b[38;5;132;01m{\u001b[39;00m\u001b[38;5;28mcls\u001b[39m\u001b[38;5;132;01m}\u001b[39;00m\u001b[38;5;124m of category \u001b[39m\u001b[38;5;132;01m{\u001b[39;00mcategory\u001b[38;5;132;01m}\u001b[39;00m\u001b[38;5;124m.\u001b[39m\u001b[38;5;130;01m\\n\u001b[39;00m\u001b[38;5;124m\"\u001b[39m\n\u001b[0;32m   (...)\u001b[0m\n\u001b[1;32m    152\u001b[0m         \u001b[38;5;124mf\u001b[39m\u001b[38;5;124m\"\u001b[39m\u001b[38;5;132;01m{\u001b[39;00merr\u001b[38;5;132;01m}\u001b[39;00m\u001b[38;5;124m\"\u001b[39m\n\u001b[1;32m    153\u001b[0m     )\n",
      "File \u001b[0;32m/opt/conda/envs/JFBAN/lib/python3.11/site-packages/deepreg/dataset/loader/paired_loader.py:81\u001b[0m, in \u001b[0;36mPairedDataLoader.__init__\u001b[0;34m(self, file_loader, data_dir_paths, labeled, sample_label, seed, moving_image_shape, fixed_image_shape, moving_label_shape, fixed_label_shape)\u001b[0m\n\u001b[1;32m     75\u001b[0m     \u001b[38;5;28mself\u001b[39m\u001b[38;5;241m.\u001b[39mloader_moving_label \u001b[38;5;241m=\u001b[39m file_loader(\n\u001b[1;32m     76\u001b[0m         dir_paths\u001b[38;5;241m=\u001b[39mdata_dir_paths, name\u001b[38;5;241m=\u001b[39m\u001b[38;5;124m\"\u001b[39m\u001b[38;5;124mmoving_labels\u001b[39m\u001b[38;5;124m\"\u001b[39m, grouped\u001b[38;5;241m=\u001b[39m\u001b[38;5;28;01mFalse\u001b[39;00m\n\u001b[1;32m     77\u001b[0m     )\n\u001b[1;32m     78\u001b[0m     \u001b[38;5;28mself\u001b[39m\u001b[38;5;241m.\u001b[39mloader_fixed_label \u001b[38;5;241m=\u001b[39m file_loader(\n\u001b[1;32m     79\u001b[0m         dir_paths\u001b[38;5;241m=\u001b[39mdata_dir_paths, name\u001b[38;5;241m=\u001b[39m\u001b[38;5;124m\"\u001b[39m\u001b[38;5;124mfixed_labels\u001b[39m\u001b[38;5;124m\"\u001b[39m, grouped\u001b[38;5;241m=\u001b[39m\u001b[38;5;28;01mFalse\u001b[39;00m\n\u001b[1;32m     80\u001b[0m     )\n\u001b[0;32m---> 81\u001b[0m \u001b[38;5;28;43mself\u001b[39;49m\u001b[38;5;241;43m.\u001b[39;49m\u001b[43mvalidate_data_files\u001b[49m\u001b[43m(\u001b[49m\u001b[43m)\u001b[49m\n\u001b[1;32m     82\u001b[0m \u001b[38;5;28mself\u001b[39m\u001b[38;5;241m.\u001b[39mnum_images \u001b[38;5;241m=\u001b[39m \u001b[38;5;28mself\u001b[39m\u001b[38;5;241m.\u001b[39mloader_moving_image\u001b[38;5;241m.\u001b[39mget_num_images()\n",
      "File \u001b[0;32m/opt/conda/envs/JFBAN/lib/python3.11/site-packages/deepreg/dataset/loader/paired_loader.py:122\u001b[0m, in \u001b[0;36mPairedDataLoader.validate_data_files\u001b[0;34m(self)\u001b[0m\n\u001b[1;32m    120\u001b[0m moving_image_ids \u001b[38;5;241m=\u001b[39m \u001b[38;5;28mself\u001b[39m\u001b[38;5;241m.\u001b[39mloader_moving_image\u001b[38;5;241m.\u001b[39mget_data_ids()\n\u001b[1;32m    121\u001b[0m fixed_image_ids \u001b[38;5;241m=\u001b[39m \u001b[38;5;28mself\u001b[39m\u001b[38;5;241m.\u001b[39mloader_fixed_image\u001b[38;5;241m.\u001b[39mget_data_ids()\n\u001b[0;32m--> 122\u001b[0m \u001b[43mcheck_difference_between_two_lists\u001b[49m\u001b[43m(\u001b[49m\n\u001b[1;32m    123\u001b[0m \u001b[43m    \u001b[49m\u001b[43mlist1\u001b[49m\u001b[38;5;241;43m=\u001b[39;49m\u001b[43mmoving_image_ids\u001b[49m\u001b[43m,\u001b[49m\n\u001b[1;32m    124\u001b[0m \u001b[43m    \u001b[49m\u001b[43mlist2\u001b[49m\u001b[38;5;241;43m=\u001b[39;49m\u001b[43mfixed_image_ids\u001b[49m\u001b[43m,\u001b[49m\n\u001b[1;32m    125\u001b[0m \u001b[43m    \u001b[49m\u001b[43mname\u001b[49m\u001b[38;5;241;43m=\u001b[39;49m\u001b[38;5;124;43m\"\u001b[39;49m\u001b[38;5;124;43mmoving and fixed images in paired loader\u001b[39;49m\u001b[38;5;124;43m\"\u001b[39;49m\u001b[43m,\u001b[49m\n\u001b[1;32m    126\u001b[0m \u001b[43m\u001b[49m\u001b[43m)\u001b[49m\n\u001b[1;32m    127\u001b[0m \u001b[38;5;28;01mif\u001b[39;00m \u001b[38;5;28mself\u001b[39m\u001b[38;5;241m.\u001b[39mlabeled:\n\u001b[1;32m    128\u001b[0m     moving_label_ids \u001b[38;5;241m=\u001b[39m \u001b[38;5;28mself\u001b[39m\u001b[38;5;241m.\u001b[39mloader_moving_label\u001b[38;5;241m.\u001b[39mget_data_ids()\n",
      "File \u001b[0;32m/opt/conda/envs/JFBAN/lib/python3.11/site-packages/deepreg/dataset/util.py:61\u001b[0m, in \u001b[0;36mcheck_difference_between_two_lists\u001b[0;34m(list1, list2, name)\u001b[0m\n\u001b[1;32m     59\u001b[0m diff \u001b[38;5;241m=\u001b[39m [(x, y) \u001b[38;5;28;01mfor\u001b[39;00m x, y \u001b[38;5;129;01min\u001b[39;00m it\u001b[38;5;241m.\u001b[39mzip_longest(list1, list2) \u001b[38;5;28;01mif\u001b[39;00m x \u001b[38;5;241m!=\u001b[39m y]\n\u001b[1;32m     60\u001b[0m \u001b[38;5;28;01mif\u001b[39;00m \u001b[38;5;28mlen\u001b[39m(diff) \u001b[38;5;241m>\u001b[39m \u001b[38;5;241m0\u001b[39m:\n\u001b[0;32m---> 61\u001b[0m     \u001b[38;5;28;01mraise\u001b[39;00m \u001b[38;5;167;01mValueError\u001b[39;00m(\u001b[38;5;124mf\u001b[39m\u001b[38;5;124m\"\u001b[39m\u001b[38;5;132;01m{\u001b[39;00mname\u001b[38;5;132;01m}\u001b[39;00m\u001b[38;5;124m are not identical\u001b[39m\u001b[38;5;130;01m\\n\u001b[39;00m\u001b[38;5;124m\"\u001b[39m \u001b[38;5;124mf\u001b[39m\u001b[38;5;124m\"\u001b[39m\u001b[38;5;124mdifference are \u001b[39m\u001b[38;5;132;01m{\u001b[39;00mdiff\u001b[38;5;132;01m}\u001b[39;00m\u001b[38;5;130;01m\\n\u001b[39;00m\u001b[38;5;124m\"\u001b[39m)\n",
      "\u001b[0;31mValueError\u001b[0m: moving and fixed images in paired loader are not identical\ndifference are [(('/workspace/test_h5_files', '10078to15011'), ('/workspace/test_h5_files', '15011to15011')), (('/workspace/test_h5_files', '10411to15011'), None), (('/workspace/test_h5_files', '10412to15011'), None), (('/workspace/test_h5_files', '10419to15011'), None), (('/workspace/test_h5_files', '10423to15011'), None), (('/workspace/test_h5_files', '10456to15011'), None), (('/workspace/test_h5_files', '10459to15011'), None), (('/workspace/test_h5_files', '10523to15011'), None), (('/workspace/test_h5_files', '12233to15011'), None), (('/workspace/test_h5_files', '13626to15011'), None), (('/workspace/test_h5_files', '13627to15011'), None), (('/workspace/test_h5_files', '13671to15011'), None), (('/workspace/test_h5_files', '13847to15011'), None), (('/workspace/test_h5_files', '14344to15011'), None), (('/workspace/test_h5_files', '14745to15011'), None), (('/workspace/test_h5_files', '15004to15011'), None), (('/workspace/test_h5_files', '15058to15011'), None), (('/workspace/test_h5_files', '15063to15011'), None), (('/workspace/test_h5_files', '15088to15011'), None), (('/workspace/test_h5_files', '15089to15011'), None), (('/workspace/test_h5_files', '15110to15011'), None), (('/workspace/test_h5_files', '15307to15011'), None), (('/workspace/test_h5_files', '15660to15011'), None), (('/workspace/test_h5_files', '15838to15011'), None), (('/workspace/test_h5_files', '16304to15011'), None), (('/workspace/test_h5_files', '16332to15011'), None), (('/workspace/test_h5_files', '17314to15011'), None), (('/workspace/test_h5_files', '17686to15011'), None), (('/workspace/test_h5_files', '17948to15011'), None), (('/workspace/test_h5_files', '17952to15011'), None), (('/workspace/test_h5_files', '17955to15011'), None), (('/workspace/test_h5_files', '17995to15011'), None), (('/workspace/test_h5_files', '18339to15011'), None), (('/workspace/test_h5_files', '19483to15011'), None), (('/workspace/test_h5_files', '19530to15011'), None), (('/workspace/test_h5_files', '19536to15011'), None), (('/workspace/test_h5_files', '1to15011'), None), (('/workspace/test_h5_files', '20958to15011'), None), (('/workspace/test_h5_files', '2122to15011'), None), (('/workspace/test_h5_files', '22301to15011'), None), (('/workspace/test_h5_files', '22359to15011'), None), (('/workspace/test_h5_files', '23057to15011'), None), (('/workspace/test_h5_files', '24070to15011'), None), (('/workspace/test_h5_files', '24232to15011'), None), (('/workspace/test_h5_files', '3563to15011'), None), (('/workspace/test_h5_files', '5004to15011'), None), (('/workspace/test_h5_files', '6739to15011'), None), (('/workspace/test_h5_files', '8110to15011'), None), (('/workspace/test_h5_files', '985to15011'), None)]\n"
     ]
    }
   ],
   "source": [
    "# config_path = os.path.join(checkpoint_path.split(\"/save\")[0], \"config.yaml\")\n",
    "config_path = \"/workspace/demo_notebook/test_run/config.yaml\"\n",
    "model = None\n",
    "\n",
    "red_offset = 0\n",
    "\n",
    "other_chan = (red_chan - 1) % inputs.shape[1]\n",
    "\n",
    "batched_fixed_image_pad = np.pad(batched_fixed_image[..., np.newaxis], padding, \"constant\", constant_values=np.min(batched_fixed_image))\n",
    "\n",
    "warping = Warping(fixed_image_size=(side_len, side_len, z_depth), batch_size=batch_size)\n",
    "\n",
    "for file in files:\n",
    "    inputs = tifffile.imread(os.path.join(tiff_folder, file))\n",
    "    inputs_crop = inputs[:, :, crop_offset[0]:crop_offset[0] + crop_shape[0], crop_offset[1]:crop_offset[1] + crop_shape[1]]\n",
    "    input_red = inputs_crop[:, red_chan, ...]\n",
    "    input_green = inputs_crop[:, other_chan, ...]\n",
    "    outs = np.zeros_like(inputs_crop)\n",
    "    for frame in trange(0, max_frames, batch_size):\n",
    "        if frame + batch_size > (max_frames):\n",
    "            frame = (max_frames) - batch_size\n",
    "\n",
    "        batched_moving_image = input_red[(frame - red_offset):(frame-red_offset)+batch_size].astype(np.float32)\n",
    "        # batched_moving_image = np.log2((batched_moving_image - np.min(batched_moving_image)) + 1, dtype=np.float32)\n",
    "        # batched_moving_image = np.pad(batched_moving_image[..., np.newaxis], padding, \"constant\", constant_values=0)\n",
    "        batched_moving_image = np.pad(batched_moving_image[..., np.newaxis], padding, \"constant\", constant_values=np.min(batched_moving_image))\n",
    "        # batched_moving_image = np.repeat(batched_moving_image[..., np.newaxis], z_depth, axis=-1)\n",
    "        \n",
    "        ddf_output, pred_fixed_image, model = unwrapped_predict(\n",
    "            batched_fixed_image_pad,\n",
    "            batched_moving_image,\n",
    "            log_dir,\n",
    "            label_shape,\n",
    "            label_shape,\n",
    "            model=model,\n",
    "            model_ckpt_path=checkpoint_path,\n",
    "            model_config_path=config_path,\n",
    "        )\n",
    "\n",
    "\n",
    "        gr_in = np.pad(input_green[(frame):(frame)+batch_size, ..., np.newaxis], padding, \"constant\", constant_values=0).astype(np.float32)\n",
    "        outs[frame:(frame) + batch_size, other_chan] = warping(inputs=[ddf_output, gr_in]).numpy()[..., 1]\n",
    "        \n",
    "        batched_moving_image = input_red[(frame - red_offset):(frame-red_offset)+batch_size].astype(np.float32)\n",
    "        batched_moving_image = np.pad(batched_moving_image[..., np.newaxis], padding, \"constant\", constant_values=0)\n",
    "        outs[frame:(frame) + batch_size, red_chan] = warping(inputs=[ddf_output, batched_moving_image]).numpy()[..., 1]\n",
    "        \n",
    "        # outs[frame:(frame) + batch_size] = pred_fixed_image[..., 1] * 100\n",
    "    # tifffile.imwrite(os.path.join(out_folder, \"RED_WARPED_\" + file), outs)\n",
    "\n",
    "    tifffile.imwrite(os.path.join(out_folder, \"WARPED-BOTH_\" + file), outs, imagej=True, bigtiff=True)\n",
    "    # break\n"
   ]
  },
  {
   "cell_type": "code",
   "execution_count": null,
   "metadata": {},
   "outputs": [],
   "source": []
  }
 ],
 "metadata": {
  "kernelspec": {
   "display_name": "JFBAN",
   "language": "python",
   "name": "python3"
  },
  "language_info": {
   "codemirror_mode": {
    "name": "ipython",
    "version": 3
   },
   "file_extension": ".py",
   "mimetype": "text/x-python",
   "name": "python",
   "nbconvert_exporter": "python",
   "pygments_lexer": "ipython3",
   "version": "3.11.9"
  }
 },
 "nbformat": 4,
 "nbformat_minor": 2
}
