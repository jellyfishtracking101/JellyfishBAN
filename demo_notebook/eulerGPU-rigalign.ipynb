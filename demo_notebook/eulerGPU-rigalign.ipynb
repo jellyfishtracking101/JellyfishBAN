{
 "cells": [
  {
   "cell_type": "code",
   "execution_count": null,
   "metadata": {},
   "outputs": [],
   "source": [
    "import tifffile\n",
    "import euler_gpu\n",
    "import os, random\n",
    "os.environ[\"CUDA_VISIBLE_DEVICES\"] = \"1\"\n",
    "import numpy as np\n",
    "import torch\n",
    "import h5py\n",
    "from tqdm import tqdm\n",
    "from math import pi as PI\n",
    "device = torch.device(\"cuda:0\")\n",
    "BATCH_SIZE = 256\n",
    "red_channel = 1\n",
    "fixed_frame = 0\n",
    "\n",
    "MAX_NUM_CENTROIDS = 100"
   ]
  },
  {
   "cell_type": "code",
   "execution_count": null,
   "metadata": {},
   "outputs": [
    {
     "name": "stdout",
     "output_type": "stream",
     "text": [
      "['20250212_Experiment_01_0-1999.tif', '20250212_Experiment_01_2000-3999.tif', '20250212_Experiment_01_4000-5999.tif', '20250212_Experiment_01_6000-7999.tif', '20250212_Experiment_01_8000-9999.tif']\n"
     ]
    }
   ],
   "source": [
    "tiff_folder = \"/storage/fs/store1/brian/swimming_videos_RFa/Folder_20250212124023_RFa_noswim\"\n",
    "files = [f for f in os.listdir(tiff_folder) if f.endswith(\".tif\") or f.endswith(\".tiff\")]\n",
    "files = sorted(files, key = lambda x: int(x.split(\"_\")[-1].split(\"-\")[0]))\n",
    "print(files)\n",
    "\n",
    "## If you're not using channel alignment, comment out the following line\n",
    "files = [\"CHAN_\" + f for f in files]\n"
   ]
  },
  {
   "cell_type": "markdown",
   "metadata": {},
   "source": [
    "## Align Video by adjacent frames over multiple files"
   ]
  },
  {
   "cell_type": "code",
   "execution_count": null,
   "metadata": {},
   "outputs": [],
   "source": [
    "TH_CONST = np.array([0])\n",
    "XY_RANGE = np.concatenate((np.linspace(-0.005, 0.005, 10, dtype=np.float32), TH_CONST)) # Just using this here so we don't have ot redefine\n",
    "ALIGN_TH_RANGE = np.concatenate((np.linspace(0, .5, 10, dtype=np.float32), np.linspace(359.5, 360, 10, dtype=np.float32), TH_CONST))"
   ]
  },
  {
   "cell_type": "code",
   "execution_count": null,
   "metadata": {},
   "outputs": [],
   "source": [
    "tiff_path = os.path.join(tiff_folder, files[0])\n",
    "inputs = tifffile.imread(tiff_path)"
   ]
  },
  {
   "cell_type": "code",
   "execution_count": null,
   "metadata": {},
   "outputs": [
    {
     "name": "stderr",
     "output_type": "stream",
     "text": [
      "100%|██████████| 2000/2000 [40:43<00:00,  1.22s/it]\n"
     ]
    },
    {
     "name": "stdout",
     "output_type": "stream",
     "text": [
      "(tensor([0.0100], device='cuda:0'), tensor([-0.0111], device='cuda:0'), tensor([0.0019], device='cuda:0'))\n"
     ]
    },
    {
     "name": "stderr",
     "output_type": "stream",
     "text": [
      "100%|██████████| 2000/2000 [41:25<00:00,  1.24s/it]\n"
     ]
    },
    {
     "name": "stdout",
     "output_type": "stream",
     "text": [
      "(tensor([0.0156], device='cuda:0'), tensor([-0.0211], device='cuda:0'), tensor([0.0019], device='cuda:0'))\n"
     ]
    },
    {
     "name": "stderr",
     "output_type": "stream",
     "text": [
      "/home/brian/.conda/envs/PB/lib/python3.11/site-packages/tifffile/tifffile.py:3784: UserWarning: <tifffile.TiffWriter 'RIG_CHAN_20240930_2000-3999.tif'> truncating ImageJ file\n",
      "  warnings.warn(\n",
      "100%|██████████| 2000/2000 [40:38<00:00,  1.22s/it]\n"
     ]
    },
    {
     "name": "stdout",
     "output_type": "stream",
     "text": [
      "(tensor([0.0189], device='cuda:0'), tensor([-0.0289], device='cuda:0'), tensor([0.0039], device='cuda:0'))\n"
     ]
    },
    {
     "name": "stderr",
     "output_type": "stream",
     "text": [
      "/home/brian/.conda/envs/PB/lib/python3.11/site-packages/tifffile/tifffile.py:3784: UserWarning: <tifffile.TiffWriter 'RIG_CHAN_20240930_4000-5999.tif'> truncating ImageJ file\n",
      "  warnings.warn(\n",
      "100%|██████████| 2000/2000 [41:26<00:00,  1.24s/it]\n"
     ]
    },
    {
     "name": "stdout",
     "output_type": "stream",
     "text": [
      "(tensor([0.0233], device='cuda:0'), tensor([-0.0344], device='cuda:0'), tensor([0.0039], device='cuda:0'))\n"
     ]
    },
    {
     "name": "stderr",
     "output_type": "stream",
     "text": [
      "/home/brian/.conda/envs/PB/lib/python3.11/site-packages/tifffile/tifffile.py:3784: UserWarning: <tifffile.TiffWriter 'RIG_CHAN_20240930_6000-7999.tif'> truncating ImageJ file\n",
      "  warnings.warn(\n",
      "100%|██████████| 2000/2000 [40:28<00:00,  1.21s/it]\n"
     ]
    },
    {
     "name": "stdout",
     "output_type": "stream",
     "text": [
      "(tensor([0.0244], device='cuda:0'), tensor([-0.0389], device='cuda:0'), tensor([0.0049], device='cuda:0'))\n"
     ]
    },
    {
     "name": "stderr",
     "output_type": "stream",
     "text": [
      "/home/brian/.conda/envs/PB/lib/python3.11/site-packages/tifffile/tifffile.py:3784: UserWarning: <tifffile.TiffWriter 'RIG_CHAN_20240930_8000-9999.tif'> truncating ImageJ file\n",
      "  warnings.warn(\n",
      "100%|██████████| 2000/2000 [40:23<00:00,  1.21s/it]\n"
     ]
    },
    {
     "name": "stdout",
     "output_type": "stream",
     "text": [
      "(tensor([0.0300], device='cuda:0'), tensor([-0.0522], device='cuda:0'), tensor([0.0049], device='cuda:0'))\n"
     ]
    },
    {
     "name": "stderr",
     "output_type": "stream",
     "text": [
      "/home/brian/.conda/envs/PB/lib/python3.11/site-packages/tifffile/tifffile.py:3784: UserWarning: <tifffile.TiffWriter 'RIG_CHAN_202409…_10000-11999.tif'> truncating ImageJ file\n",
      "  warnings.warn(\n",
      "100%|██████████| 2000/2000 [40:28<00:00,  1.21s/it]\n"
     ]
    },
    {
     "name": "stdout",
     "output_type": "stream",
     "text": [
      "(tensor([0.0344], device='cuda:0'), tensor([-0.0611], device='cuda:0'), tensor([0.0020], device='cuda:0'))\n"
     ]
    },
    {
     "name": "stderr",
     "output_type": "stream",
     "text": [
      "/home/brian/.conda/envs/PB/lib/python3.11/site-packages/tifffile/tifffile.py:3784: UserWarning: <tifffile.TiffWriter 'RIG_CHAN_202409…_12000-13999.tif'> truncating ImageJ file\n",
      "  warnings.warn(\n",
      "100%|██████████| 2000/2000 [40:29<00:00,  1.21s/it]\n"
     ]
    },
    {
     "name": "stdout",
     "output_type": "stream",
     "text": [
      "(tensor([0.0367], device='cuda:0'), tensor([-0.0711], device='cuda:0'), tensor([0.0020], device='cuda:0'))\n"
     ]
    },
    {
     "name": "stderr",
     "output_type": "stream",
     "text": [
      "/home/brian/.conda/envs/PB/lib/python3.11/site-packages/tifffile/tifffile.py:3784: UserWarning: <tifffile.TiffWriter 'RIG_CHAN_202409…_14000-15999.tif'> truncating ImageJ file\n",
      "  warnings.warn(\n",
      "100%|██████████| 2000/2000 [40:34<00:00,  1.22s/it]\n"
     ]
    },
    {
     "name": "stdout",
     "output_type": "stream",
     "text": [
      "(tensor([0.0333], device='cuda:0'), tensor([-0.0811], device='cuda:0'), tensor([5.2671e-05], device='cuda:0'))\n"
     ]
    },
    {
     "name": "stderr",
     "output_type": "stream",
     "text": [
      "/home/brian/.conda/envs/PB/lib/python3.11/site-packages/tifffile/tifffile.py:3784: UserWarning: <tifffile.TiffWriter 'RIG_CHAN_202409…_16000-17999.tif'> truncating ImageJ file\n",
      "  warnings.warn(\n",
      "100%|██████████| 2000/2000 [41:10<00:00,  1.24s/it]\n"
     ]
    },
    {
     "name": "stdout",
     "output_type": "stream",
     "text": [
      "(tensor([0.0411], device='cuda:0'), tensor([-0.0989], device='cuda:0'), tensor([0.0010], device='cuda:0'))\n"
     ]
    },
    {
     "name": "stderr",
     "output_type": "stream",
     "text": [
      "/home/brian/.conda/envs/PB/lib/python3.11/site-packages/tifffile/tifffile.py:3784: UserWarning: <tifffile.TiffWriter 'RIG_CHAN_202409…_18000-19999.tif'> truncating ImageJ file\n",
      "  warnings.warn(\n",
      "100%|██████████| 2000/2000 [40:25<00:00,  1.21s/it]\n"
     ]
    },
    {
     "name": "stdout",
     "output_type": "stream",
     "text": [
      "(tensor([0.0633], device='cuda:0'), tensor([-0.1033], device='cuda:0'), tensor([6.0779e-05], device='cuda:0'))\n"
     ]
    },
    {
     "name": "stderr",
     "output_type": "stream",
     "text": [
      "/home/brian/.conda/envs/PB/lib/python3.11/site-packages/tifffile/tifffile.py:3784: UserWarning: <tifffile.TiffWriter 'RIG_CHAN_202409…_20000-21999.tif'> truncating ImageJ file\n",
      "  warnings.warn(\n",
      "100%|██████████| 2000/2000 [41:33<00:00,  1.25s/it]\n"
     ]
    },
    {
     "name": "stdout",
     "output_type": "stream",
     "text": [
      "(tensor([0.0889], device='cuda:0'), tensor([-0.1178], device='cuda:0'), tensor([6.2784], device='cuda:0'))\n"
     ]
    },
    {
     "name": "stderr",
     "output_type": "stream",
     "text": [
      "/home/brian/.conda/envs/PB/lib/python3.11/site-packages/tifffile/tifffile.py:3784: UserWarning: <tifffile.TiffWriter 'RIG_CHAN_202409…_22000-23999.tif'> truncating ImageJ file\n",
      "  warnings.warn(\n",
      "100%|██████████| 2000/2000 [41:21<00:00,  1.24s/it]\n"
     ]
    },
    {
     "name": "stdout",
     "output_type": "stream",
     "text": [
      "(tensor([0.0922], device='cuda:0'), tensor([-0.1189], device='cuda:0'), tensor([6.2764], device='cuda:0'))\n"
     ]
    },
    {
     "name": "stderr",
     "output_type": "stream",
     "text": [
      "/home/brian/.conda/envs/PB/lib/python3.11/site-packages/tifffile/tifffile.py:3784: UserWarning: <tifffile.TiffWriter 'RIG_CHAN_202409…_24000-25999.tif'> truncating ImageJ file\n",
      "  warnings.warn(\n",
      "100%|██████████| 2000/2000 [41:51<00:00,  1.26s/it]\n"
     ]
    },
    {
     "name": "stdout",
     "output_type": "stream",
     "text": [
      "(tensor([0.0989], device='cuda:0'), tensor([-0.1233], device='cuda:0'), tensor([6.2726], device='cuda:0'))\n"
     ]
    },
    {
     "name": "stderr",
     "output_type": "stream",
     "text": [
      "/home/brian/.conda/envs/PB/lib/python3.11/site-packages/tifffile/tifffile.py:3784: UserWarning: <tifffile.TiffWriter 'RIG_CHAN_202409…_26000-27999.tif'> truncating ImageJ file\n",
      "  warnings.warn(\n",
      "100%|██████████| 2000/2000 [40:48<00:00,  1.22s/it]\n"
     ]
    },
    {
     "name": "stdout",
     "output_type": "stream",
     "text": [
      "(tensor([0.0989], device='cuda:0'), tensor([-0.1233], device='cuda:0'), tensor([6.2726], device='cuda:0'))\n"
     ]
    },
    {
     "name": "stderr",
     "output_type": "stream",
     "text": [
      "/home/brian/.conda/envs/PB/lib/python3.11/site-packages/tifffile/tifffile.py:3784: UserWarning: <tifffile.TiffWriter 'RIG_CHAN_202409…_28000-29999.tif'> truncating ImageJ file\n",
      "  warnings.warn(\n"
     ]
    }
   ],
   "source": [
    "## Align Video by adjacent frames\n",
    "other_chan = (red_channel - 1) % inputs.shape[1]\n",
    "\n",
    "fixed_image = inputs[0, red_channel]\n",
    "\n",
    "prev_transform = (torch.tensor([0.0], device='cuda:0'), torch.tensor([0.0], device='cuda:0'), torch.tensor([0.0], device='cuda:0'))\n",
    "\n",
    "for file in files:\n",
    "    ins = tifffile.imread(os.path.join(tiff_folder, file))\n",
    "\n",
    "    out = np.empty_like(ins)\n",
    "    for frame in tqdm(range(ins.shape[0])):\n",
    "    # for frame in range(red.shape[0]):\n",
    "        moving_image = ins[frame, red_channel]\n",
    "\n",
    "        align_x_range_2 = np.add(XY_RANGE, prev_transform[0].cpu().numpy())\n",
    "        align_y_range_2 = np.add(XY_RANGE, prev_transform[1].cpu().numpy())\n",
    "        align_the_range = np.mod(np.add(ALIGN_TH_RANGE, (prev_transform[2].cpu().numpy() * 180) / PI), 360)\n",
    "        memory_dict = euler_gpu.initialize(fixed_image, moving_image, align_x_range_2, align_y_range_2, align_the_range, BATCH_SIZE, device)\n",
    "        best_score, best_transformation = euler_gpu.grid_search(memory_dict)\n",
    "        \n",
    "        # in_img = ins[frame, red_channel]\n",
    "        in_img = torch.Tensor(moving_image[np.newaxis, np.newaxis, ...]).to(device=device)\n",
    "        out[frame, red_channel] = euler_gpu.transform_image(in_img, best_transformation[0], best_transformation[1], best_transformation[2], memory_dict).cpu().numpy()\n",
    "        in_img = ins[frame, other_chan]\n",
    "        in_img = torch.Tensor(in_img[np.newaxis, np.newaxis, ...]).to(device=device)\n",
    "        out[frame, other_chan] = euler_gpu.transform_image(in_img, best_transformation[0], best_transformation[1], best_transformation[2], memory_dict).cpu().numpy()\n",
    "        # print(best_transformation)\n",
    "\n",
    "        prev_transform = best_transformation\n",
    "    print(prev_transform)\n",
    "    tifffile.imwrite(os.path.join(tiff_folder, \"RIG_\" + file), out, imagej=True, bigtiff=True)\n",
    "\n"
   ]
  },
  {
   "cell_type": "code",
   "execution_count": null,
   "metadata": {},
   "outputs": [],
   "source": []
  }
 ],
 "metadata": {
  "kernelspec": {
   "display_name": "PB",
   "language": "python",
   "name": "python3"
  },
  "language_info": {
   "codemirror_mode": {
    "name": "ipython",
    "version": 3
   },
   "file_extension": ".py",
   "mimetype": "text/x-python",
   "name": "python",
   "nbconvert_exporter": "python",
   "pygments_lexer": "ipython3",
   "version": "3.11.9"
  }
 },
 "nbformat": 4,
 "nbformat_minor": 2
}
